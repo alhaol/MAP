{
 "cells": [
  {
   "cell_type": "code",
   "execution_count": 37,
   "metadata": {
    "collapsed": false
   },
   "outputs": [
    {
     "data": {
      "text/html": [
       "<div>\n",
       "<table border=\"1\" class=\"dataframe\">\n",
       "  <thead>\n",
       "    <tr style=\"text-align: right;\">\n",
       "      <th></th>\n",
       "      <th>PortName</th>\n",
       "      <th>PortLat</th>\n",
       "      <th>PortLong</th>\n",
       "    </tr>\n",
       "  </thead>\n",
       "  <tbody>\n",
       "    <tr>\n",
       "      <th>0</th>\n",
       "      <td>Port of Rochefort</td>\n",
       "      <td>45.949</td>\n",
       "      <td>-0.95472</td>\n",
       "    </tr>\n",
       "    <tr>\n",
       "      <th>1</th>\n",
       "      <td>Port of Tinian</td>\n",
       "      <td>14.964</td>\n",
       "      <td>145.62000</td>\n",
       "    </tr>\n",
       "  </tbody>\n",
       "</table>\n",
       "</div>"
      ],
      "text/plain": [
       "            PortName  PortLat   PortLong\n",
       "0  Port of Rochefort   45.949   -0.95472\n",
       "1     Port of Tinian   14.964  145.62000"
      ]
     },
     "execution_count": 37,
     "metadata": {},
     "output_type": "execute_result"
    }
   ],
   "source": [
    "import pandas as pd\n",
    "import os\n",
    "#df = pd.DataFrame(data, index = ['Cochice', 'Pima', 'Santa Cruz', 'Maricopa', 'Yuma'])\n",
    "df = pd.read_csv(os.path.join('data','DataClean.csv'), header=0)\n",
    "df.head(2)\n"
   ]
  },
  {
   "cell_type": "code",
   "execution_count": 38,
   "metadata": {
    "collapsed": false
   },
   "outputs": [],
   "source": [
    "Names=list(df.PortName)\n",
    "PortLat=list(df.PortLat)\n",
    "PortLong=list(df.PortLong)"
   ]
  },
  {
   "cell_type": "code",
   "execution_count": 50,
   "metadata": {
    "collapsed": false
   },
   "outputs": [
    {
     "ename": "SyntaxError",
     "evalue": "invalid syntax (<ipython-input-50-acf909ad08e4>, line 15)",
     "output_type": "error",
     "traceback": [
      "\u001b[0;36m  File \u001b[0;32m\"<ipython-input-50-acf909ad08e4>\"\u001b[0;36m, line \u001b[0;32m15\u001b[0m\n\u001b[0;31m    f.write(\"           <coordinates>\" + PortLong[row]  + \",\" +  PortLat[row]  +  str(0)\"</coordinates>\\n\")\u001b[0m\n\u001b[0m                                                                                                         ^\u001b[0m\n\u001b[0;31mSyntaxError\u001b[0m\u001b[0;31m:\u001b[0m invalid syntax\n"
     ]
    }
   ],
   "source": [
    "fname=\"WPIMAP\"\n",
    "\n",
    "f = open('WPI.kml', 'w')\n",
    "\n",
    "#Writing the kml file.\n",
    "f.write(\"<?xml version='1.0' encoding='UTF-8'?>\\n\")\n",
    "f.write(\"<kml xmlns='http://earth.google.com/kml/2.1'>\\n\")\n",
    "f.write(\"<Document>\\n\")\n",
    "f.write(\"   <name>\" + fname + '.kml' +\"</name>\\n\")\n",
    "for row in range(len(Names)):\n",
    "    #f.write(\"   <Placemark>\\n\")\n",
    "    f.write(\"       <name>\" + Names[row] + \"</name>\\n\")\n",
    "    f.write(\"       <description>\" + Names[row] + \"</description>\\n\")\n",
    "    f.write(\"       <Point>\\n\")\n",
    "    f.write(\"           <coordinates>\" +str(PortLong[row])  + \",\" + str(PortLat[row])  +  str(0)\"</coordinates>\\n\")\n",
    "    f.write(\"       </Point>\\n\")\n",
    "    #f.write(\"   </Placemark>\\n\")\n",
    "f.write(\"</Document>\\n\")\n",
    "f.write(\"</kml>\\n\")\n",
    "f.close()\n",
    "print (\"File Created.\")\n"
   ]
  },
  {
   "cell_type": "code",
   "execution_count": null,
   "metadata": {
    "collapsed": true
   },
   "outputs": [],
   "source": [
    "# Creating the MAP from CSV File\n",
    "### All ports using simplekml"
   ]
  },
  {
   "cell_type": "code",
   "execution_count": 54,
   "metadata": {
    "collapsed": false
   },
   "outputs": [],
   "source": [
    "#!pip install simplekml"
   ]
  },
  {
   "cell_type": "code",
   "execution_count": 53,
   "metadata": {
    "collapsed": false
   },
   "outputs": [],
   "source": [
    "import csv\n",
    "import simplekml\n",
    "import os\n",
    "\n",
    "\n",
    "inputfile = csv.reader(open(os.path.join('data','DataClean.csv'),'r'))\n",
    "kml=simplekml.Kml()\n",
    "\n",
    "for row in inputfile:\n",
    "  kml.newpoint(name=row[0], coords=[( row[2],row[1])])\n",
    "\n",
    "kml.save(os.path.join('data','DataClean.kml'))"
   ]
  },
  {
   "cell_type": "code",
   "execution_count": null,
   "metadata": {
    "collapsed": true
   },
   "outputs": [],
   "source": [
    "#Crating Polygon "
   ]
  },
  {
   "cell_type": "code",
   "execution_count": 5,
   "metadata": {
    "collapsed": false
   },
   "outputs": [],
   "source": [
    "import csv\n",
    "import simplekml\n",
    "import os\n",
    "\n",
    "kml1=simplekml.Kml()\n",
    "\n",
    "pol = kml1.newpolygon(name=\"Atrium Garden\",\n",
    "                     outerboundaryis=[(18.43348,-33.98985), (18.43387,-33.99004),\n",
    "                                      (18.43410,-33.98972), (18.43371,-33.98952),\n",
    "                                      (18.43348,-33.98985)],\n",
    "                     innerboundaryis=[(18.43360,-33.98982), (18.43386,-33.98995),\n",
    "                                      (18.43401,-33.98974), (18.43376,-33.98962),\n",
    "                                     (18.43360,-33.98982)])\n",
    "\n",
    "kml1.save(os.path.join('data','CreatingPolygon.kml'))\n",
    "\n",
    "\n"
   ]
  },
  {
   "cell_type": "code",
   "execution_count": null,
   "metadata": {
    "collapsed": true
   },
   "outputs": [],
   "source": [
    "#Crating Polygon Simple Line \n"
   ]
  }
 ],
 "metadata": {
  "kernelspec": {
   "display_name": "Python 3",
   "language": "python",
   "name": "python3"
  },
  "language_info": {
   "codemirror_mode": {
    "name": "ipython",
    "version": 3
   },
   "file_extension": ".py",
   "mimetype": "text/x-python",
   "name": "python",
   "nbconvert_exporter": "python",
   "pygments_lexer": "ipython3",
   "version": "3.5.2"
  }
 },
 "nbformat": 4,
 "nbformat_minor": 2
}
