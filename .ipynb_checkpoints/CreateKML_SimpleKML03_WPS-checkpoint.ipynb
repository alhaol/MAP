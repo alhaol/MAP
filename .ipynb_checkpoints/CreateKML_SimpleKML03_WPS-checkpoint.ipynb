{
 "cells": [
  {
   "cell_type": "code",
   "execution_count": 2,
   "metadata": {
    "collapsed": false
   },
   "outputs": [
    {
     "data": {
      "text/html": [
       "<div>\n",
       "<table border=\"1\" class=\"dataframe\">\n",
       "  <thead>\n",
       "    <tr style=\"text-align: right;\">\n",
       "      <th></th>\n",
       "      <th>index</th>\n",
       "      <th>PortName</th>\n",
       "      <th>LAT1</th>\n",
       "      <th>LAT2</th>\n",
       "      <th>LAT3</th>\n",
       "      <th>LONG1</th>\n",
       "      <th>LONG2</th>\n",
       "      <th>LONG3</th>\n",
       "      <th>HarborSize</th>\n",
       "      <th>HarborType</th>\n",
       "      <th>LAT</th>\n",
       "      <th>LONG</th>\n",
       "    </tr>\n",
       "  </thead>\n",
       "  <tbody>\n",
       "    <tr>\n",
       "      <th>0</th>\n",
       "      <td>0</td>\n",
       "      <td>KEFLAVIK</td>\n",
       "      <td>64</td>\n",
       "      <td>0</td>\n",
       "      <td>N</td>\n",
       "      <td>22</td>\n",
       "      <td>33</td>\n",
       "      <td>W</td>\n",
       "      <td>V</td>\n",
       "      <td>OR</td>\n",
       "      <td>64.00</td>\n",
       "      <td>-22.55</td>\n",
       "    </tr>\n",
       "    <tr>\n",
       "      <th>1</th>\n",
       "      <td>1</td>\n",
       "      <td>STRAUMSVIK</td>\n",
       "      <td>64</td>\n",
       "      <td>3</td>\n",
       "      <td>N</td>\n",
       "      <td>22</td>\n",
       "      <td>3</td>\n",
       "      <td>W</td>\n",
       "      <td>V</td>\n",
       "      <td>CN</td>\n",
       "      <td>64.05</td>\n",
       "      <td>-22.05</td>\n",
       "    </tr>\n",
       "  </tbody>\n",
       "</table>\n",
       "</div>"
      ],
      "text/plain": [
       "   index    PortName  LAT1  LAT2 LAT3  LONG1  LONG2 LONG3 HarborSize  \\\n",
       "0      0    KEFLAVIK    64     0    N     22     33     W          V   \n",
       "1      1  STRAUMSVIK    64     3    N     22      3     W          V   \n",
       "\n",
       "  HarborType    LAT   LONG  \n",
       "0         OR  64.00 -22.55  \n",
       "1         CN  64.05 -22.05  "
      ]
     },
     "execution_count": 2,
     "metadata": {},
     "output_type": "execute_result"
    }
   ],
   "source": [
    "import pandas as pd\n",
    "import os\n",
    "#df = pd.DataFrame(data, index = ['Cochice', 'Pima', 'Santa Cruz', 'Maricopa', 'Yuma'])\n",
    "df = pd.read_csv(os.path.join('data','DataWPI_V1.csv'), header=0)\n",
    "df.head(2)\n"
   ]
  },
  {
   "cell_type": "code",
   "execution_count": 38,
   "metadata": {
    "collapsed": false
   },
   "outputs": [],
   "source": [
    "Names=list(df.PortName)\n",
    "PortLat=list(df.PortLat)\n",
    "PortLong=list(df.PortLong)"
   ]
  },
  {
   "cell_type": "code",
   "execution_count": 54,
   "metadata": {
    "collapsed": false
   },
   "outputs": [],
   "source": [
    "#!pip install simplekml"
   ]
  },
  {
   "cell_type": "code",
   "execution_count": 3,
   "metadata": {
    "collapsed": false
   },
   "outputs": [],
   "source": [
    "import csv\n",
    "import simplekml\n",
    "import os\n",
    "\n",
    "\n",
    "inputfile = csv.reader(open(os.path.join('data','DataWPI_V1.csv'),'r'))\n",
    "kml=simplekml.Kml()\n",
    "\n",
    "for row in inputfile:\n",
    "  kml.newpoint(name=row[1], coords=[( row[11],row[10])])\n",
    "\n",
    "kml.save(os.path.join('data','WPI2017.kml'))"
   ]
  },
  {
   "cell_type": "code",
   "execution_count": null,
   "metadata": {
    "collapsed": true
   },
   "outputs": [],
   "source": [
    "#Crating Polygon "
   ]
  },
  {
   "cell_type": "markdown",
   "metadata": {
    "collapsed": false
   },
   "source": [
    "import csv\n",
    "import simplekml\n",
    "import os\n",
    "\n",
    "kml1=simplekml.Kml()\n",
    "\n",
    "pol = kml1.newpolygon(name=\"Atrium Garden\",\n",
    "                     outerboundaryis=[(18.43348,-33.98985), (18.43387,-33.99004),\n",
    "                                      (18.43410,-33.98972), (18.43371,-33.98952),\n",
    "                                      (18.43348,-33.98985)],\n",
    "                     innerboundaryis=[(18.43360,-33.98982), (18.43386,-33.98995),\n",
    "                                      (18.43401,-33.98974), (18.43376,-33.98962),\n",
    "                                     (18.43360,-33.98982)])\n",
    "\n",
    "kml1.save(os.path.join('data','CreatingPolygon.kml'))\n",
    "\n",
    "\n"
   ]
  },
  {
   "cell_type": "code",
   "execution_count": null,
   "metadata": {
    "collapsed": true
   },
   "outputs": [],
   "source": [
    "#Crating Polygon Simple Line \n"
   ]
  }
 ],
 "metadata": {
  "kernelspec": {
   "display_name": "Python 3",
   "language": "python",
   "name": "python3"
  },
  "language_info": {
   "codemirror_mode": {
    "name": "ipython",
    "version": 3
   },
   "file_extension": ".py",
   "mimetype": "text/x-python",
   "name": "python",
   "nbconvert_exporter": "python",
   "pygments_lexer": "ipython3",
   "version": "3.5.2"
  }
 },
 "nbformat": 4,
 "nbformat_minor": 2
}
