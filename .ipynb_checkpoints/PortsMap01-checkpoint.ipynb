{
 "cells": [
  {
   "cell_type": "code",
   "execution_count": 10,
   "metadata": {
    "collapsed": false,
    "scrolled": false
   },
   "outputs": [
    {
     "data": {
      "text/html": [
       "<div>\n",
       "<table border=\"1\" class=\"dataframe\">\n",
       "  <thead>\n",
       "    <tr style=\"text-align: right;\">\n",
       "      <th></th>\n",
       "      <th>0</th>\n",
       "      <th>1</th>\n",
       "    </tr>\n",
       "  </thead>\n",
       "  <tbody>\n",
       "    <tr>\n",
       "      <th>0</th>\n",
       "      <td>Port of Rochefort</td>\n",
       "      <td>45.94900</td>\n",
       "    </tr>\n",
       "    <tr>\n",
       "      <th>1</th>\n",
       "      <td>NaN</td>\n",
       "      <td>-0.95472</td>\n",
       "    </tr>\n",
       "    <tr>\n",
       "      <th>2</th>\n",
       "      <td>Port of Tinian</td>\n",
       "      <td>14.96400</td>\n",
       "    </tr>\n",
       "    <tr>\n",
       "      <th>3</th>\n",
       "      <td>NaN</td>\n",
       "      <td>145.62000</td>\n",
       "    </tr>\n",
       "    <tr>\n",
       "      <th>4</th>\n",
       "      <td>Port of Ceuta</td>\n",
       "      <td>35.89000</td>\n",
       "    </tr>\n",
       "  </tbody>\n",
       "</table>\n",
       "</div>"
      ],
      "text/plain": [
       "                   0          1\n",
       "0  Port of Rochefort   45.94900\n",
       "1                NaN   -0.95472\n",
       "2     Port of Tinian   14.96400\n",
       "3                NaN  145.62000\n",
       "4      Port of Ceuta   35.89000"
      ]
     },
     "execution_count": 10,
     "metadata": {},
     "output_type": "execute_result"
    }
   ],
   "source": [
    "import pandas as pd\n",
    "#df = pd.DataFrame(data, index = ['Cochice', 'Pima', 'Santa Cruz', 'Maricopa', 'Yuma'])\n",
    "df = pd.read_csv('CombinedPorts.csv', header=None)\n",
    "df.head()"
   ]
  },
  {
   "cell_type": "code",
   "execution_count": 12,
   "metadata": {
    "collapsed": false
   },
   "outputs": [],
   "source": [
    "LatLong=df[:][1].tolist()\n",
    "Lat=LatLong[0::2]\n",
    "Long=LatLong[1::2]\n",
    "Ports=df[::2][0].tolist()\n"
   ]
  },
  {
   "cell_type": "code",
   "execution_count": 13,
   "metadata": {
    "collapsed": false
   },
   "outputs": [
    {
     "data": {
      "text/plain": [
       "True"
      ]
     },
     "execution_count": 13,
     "metadata": {},
     "output_type": "execute_result"
    }
   ],
   "source": [
    "len(Long)==len(Lat)==len(Ports)"
   ]
  },
  {
   "cell_type": "code",
   "execution_count": 14,
   "metadata": {
    "collapsed": false
   },
   "outputs": [],
   "source": [
    "import numpy as np\n",
    "data = np.dstack([Ports,Lat,Long])\n",
    "DataClean=pd.DataFrame (data[0][0:], columns=['PortName', 'PortLat','PortLog'])"
   ]
  },
  {
   "cell_type": "code",
   "execution_count": 15,
   "metadata": {
    "collapsed": false
   },
   "outputs": [],
   "source": [
    "DataClean.to_csv('DataClean.csv',index=False ) "
   ]
  },
  {
   "cell_type": "code",
   "execution_count": 16,
   "metadata": {
    "collapsed": false,
    "scrolled": true
   },
   "outputs": [
    {
     "name": "stdout",
     "output_type": "stream",
     "text": [
      "           PortLat      PortLog\n",
      "count  5507.000000  5507.000000\n",
      "mean     32.573678    11.472626\n",
      "std      25.494622    76.433069\n",
      "min     -54.933000  -179.120000\n",
      "25%      19.454000   -57.527500\n",
      "50%      40.041000     8.534400\n",
      "75%      50.818500    48.698000\n",
      "max      78.928000   179.360000\n",
      "Index(['PortName', 'PortLat', 'PortLog'], dtype='object')\n"
     ]
    }
   ],
   "source": [
    "Data = pd.read_csv('DataClean.csv',header=0) \n",
    "Data.head()\n",
    "print(Data.describe())\n",
    "print(Data.columns)"
   ]
  },
  {
   "cell_type": "code",
   "execution_count": 17,
   "metadata": {
    "collapsed": false
   },
   "outputs": [
    {
     "name": "stdout",
     "output_type": "stream",
     "text": [
      "5192\n",
      "5176\n",
      "4888\n",
      "5507\n"
     ]
    }
   ],
   "source": [
    "print(len(Data.PortLat.unique()))\n",
    "print(len(Data.PortLog.unique()))\n",
    "print(len(Data.PortName.unique()))\n",
    "print(len(Data.PortName))"
   ]
  },
  {
   "cell_type": "code",
   "execution_count": 18,
   "metadata": {
    "collapsed": false,
    "scrolled": true
   },
   "outputs": [
    {
     "name": "stdout",
     "output_type": "stream",
     "text": [
      "True\n",
      "True\n",
      "4888\n"
     ]
    }
   ],
   "source": [
    "# Cleaning the list from all redundant Port Names \n",
    "DataCleanND=Data.drop_duplicates(subset='PortName',keep='last')\n",
    "print(len(DataCleanND.PortName.unique())==len(DataCleanND.PortLat[:]))\n",
    "print(len(DataCleanND.PortName.unique())==len(DataCleanND.PortLog[:]))\n",
    "print(len(DataCleanND.PortName.unique()))"
   ]
  },
  {
   "cell_type": "code",
   "execution_count": 19,
   "metadata": {
    "collapsed": true
   },
   "outputs": [],
   "source": [
    "# Save the clean and without redundancy version\n",
    "\n",
    "DataCleanND.to_csv('DataCleanND.csv',index=False )"
   ]
  },
  {
   "cell_type": "markdown",
   "metadata": {},
   "source": [
    "## Ploting the ports using gmplot"
   ]
  },
  {
   "cell_type": "code",
   "execution_count": 22,
   "metadata": {
    "collapsed": false
   },
   "outputs": [
    {
     "data": {
      "text/html": [
       "<div>\n",
       "<table border=\"1\" class=\"dataframe\">\n",
       "  <thead>\n",
       "    <tr style=\"text-align: right;\">\n",
       "      <th></th>\n",
       "      <th>PortName</th>\n",
       "      <th>PortLat</th>\n",
       "      <th>PortLog</th>\n",
       "    </tr>\n",
       "  </thead>\n",
       "  <tbody>\n",
       "    <tr>\n",
       "      <th>0</th>\n",
       "      <td>Port of Rochefort</td>\n",
       "      <td>45.949</td>\n",
       "      <td>-0.95472</td>\n",
       "    </tr>\n",
       "    <tr>\n",
       "      <th>1</th>\n",
       "      <td>Port of Tinian</td>\n",
       "      <td>14.964</td>\n",
       "      <td>145.62000</td>\n",
       "    </tr>\n",
       "    <tr>\n",
       "      <th>2</th>\n",
       "      <td>Port of Ceuta</td>\n",
       "      <td>35.890</td>\n",
       "      <td>-5.31640</td>\n",
       "    </tr>\n",
       "    <tr>\n",
       "      <th>3</th>\n",
       "      <td>Port of Oban</td>\n",
       "      <td>56.413</td>\n",
       "      <td>-5.47530</td>\n",
       "    </tr>\n",
       "    <tr>\n",
       "      <th>4</th>\n",
       "      <td>Port of Grytviken</td>\n",
       "      <td>-54.283</td>\n",
       "      <td>-36.49500</td>\n",
       "    </tr>\n",
       "  </tbody>\n",
       "</table>\n",
       "</div>"
      ],
      "text/plain": [
       "            PortName  PortLat    PortLog\n",
       "0  Port of Rochefort   45.949   -0.95472\n",
       "1     Port of Tinian   14.964  145.62000\n",
       "2      Port of Ceuta   35.890   -5.31640\n",
       "3       Port of Oban   56.413   -5.47530\n",
       "4  Port of Grytviken  -54.283  -36.49500"
      ]
     },
     "execution_count": 22,
     "metadata": {},
     "output_type": "execute_result"
    }
   ],
   "source": [
    "DataCleanND = pd.read_csv('DataClean.csv',header=0) \n",
    "DataCleanND.head()"
   ]
  },
  {
   "cell_type": "code",
   "execution_count": 32,
   "metadata": {
    "collapsed": false
   },
   "outputs": [],
   "source": [
    "import gmplot\n",
    "Lat=[float(i) for i in DataCleanND['PortLat'].tolist()]\n",
    "Long=[float(i) for i in DataCleanND['PortLog'].tolist()]\n",
    "gmap = gmplot.GoogleMapPlotter(45.512488, -73.548487, 2) # Port of Montreal\n",
    "#gmap.grid(45.641888,45.9, 0.01,-73.182678, -73.0, 0.01)\n",
    "#gmap.scatter(Lat, Long, '#3B0B39', size=1000, marker=True)\n",
    "#gmap.scatter(Lat, Long, 'k', marker=True)\n",
    "#heatmap(self, lats, lngs, threshold=10, radius=10, gradient=None, opacity=0.6, dissipating=True):\n",
    "gmap.heatmap(Lat, Long, threshold=100, radius=15)\n",
    "#gmap.scatter(Lat, Long, c='r', marker=True)\n",
    "#gmap.scatter(Lat, Long, s=90, marker=False, alpha=0.1)\n",
    "for i in range(len(Lat)-3000):\n",
    "    gmap.circle(Lat[i], Long[i], 500, \"#FF0000\", ew=2)\n",
    "gmap.draw(\"PortsMAP_ND.html\")\n"
   ]
  },
  {
   "cell_type": "code",
   "execution_count": 33,
   "metadata": {
    "collapsed": false
   },
   "outputs": [
    {
     "data": {
      "text/html": [
       "<iframe src=PortsMAP_ND.html width=600 height=350></iframe>"
      ],
      "text/plain": [
       "<IPython.core.display.HTML object>"
      ]
     },
     "execution_count": 33,
     "metadata": {},
     "output_type": "execute_result"
    }
   ],
   "source": [
    "\n",
    "import IPython\n",
    "url = 'PortsMAP_ND.html'\n",
    "iframe = '<iframe src=' + url + ' width=600 height=350></iframe>'\n",
    "IPython.display.HTML(iframe)"
   ]
  },
  {
   "cell_type": "markdown",
   "metadata": {
    "collapsed": true
   },
   "source": [
    "## Measuring Distance\n",
    "\n",
    "Geopy can calculate geodesic distance between two points using the Vincenty distance or great-circle distance formulas, with a default of Vincenty available as the class geopy.distance.distance, and the computed distance available as attributes (e.g., miles, meters, etc.).\n",
    "\n",
    "Here’s an example usage of Vincenty distance:\n",
    "\n",
    ">>> from geopy.distance import vincenty\n",
    "\n",
    ">>> newport_ri = (41.49008, -71.312796)\n",
    "\n",
    ">>> cleveland_oh = (41.499498, -81.695391)\n",
    "\n",
    ">>> print(vincenty(newport_ri, cleveland_oh).miles)\n",
    "\n",
    "538.3904451566326\n",
    "\n",
    "Using great-circle distance:\n",
    "\n",
    ">>> from geopy.distance import great_circle\n",
    "\n",
    ">>> newport_ri = (41.49008, -71.312796)\n",
    "\n",
    ">>> cleveland_oh = (41.499498, -81.695391)\n",
    "\n",
    ">>> print(great_circle(newport_ri, cleveland_oh).miles)\n",
    "\n",
    "537.1485284062816"
   ]
  },
  {
   "cell_type": "markdown",
   "metadata": {},
   "source": [
    "## Tool to find distances between two Points \n",
    "\n",
    "http://www.findlatitudeandlongitude.com/click-lat-lng-list/#.WLXlcDsrJhG"
   ]
  },
  {
   "cell_type": "code",
   "execution_count": 177,
   "metadata": {
    "collapsed": false
   },
   "outputs": [
    {
     "name": "stdout",
     "output_type": "stream",
     "text": [
      "538.3904451566326  miles\n"
     ]
    }
   ],
   "source": [
    "#!pip install geopy\n",
    "from geopy.distance import vincenty\n",
    "newport_ri = (41.49008, -71.312796)\n",
    "cleveland_oh = (41.499498, -81.695391)\n",
    "print(vincenty(newport_ri, cleveland_oh).miles, \" miles\")"
   ]
  },
  {
   "cell_type": "code",
   "execution_count": 178,
   "metadata": {
    "collapsed": false
   },
   "outputs": [
    {
     "name": "stdout",
     "output_type": "stream",
     "text": [
      "866.4554329011002  Km\n"
     ]
    }
   ],
   "source": [
    "#!pip install geopy\n",
    "from geopy.distance import vincenty, great_circle\n",
    "newport_ri = (41.49008, -71.312796)\n",
    "cleveland_oh = (41.499498, -81.695391)\n",
    "print(vincenty(newport_ri, cleveland_oh).meters/1000, \" Km\")"
   ]
  },
  {
   "cell_type": "code",
   "execution_count": 179,
   "metadata": {
    "collapsed": false
   },
   "outputs": [
    {
     "name": "stdout",
     "output_type": "stream",
     "text": [
      "165.00803061316566  Km\n",
      "164.59093937068678  Km\n"
     ]
    }
   ],
   "source": [
    "MontReal=(45.510197,-73.600159)\n",
    "Ottawa= (45.425444,-75.706787)\n",
    "print(vincenty(MontReal, Ottawa).meters/1000, \" Km\")\n",
    "print(great_circle(MontReal, Ottawa).meters/1000, \" Km\")"
   ]
  },
  {
   "cell_type": "code",
   "execution_count": 180,
   "metadata": {
    "collapsed": false,
    "scrolled": true
   },
   "outputs": [
    {
     "data": {
      "text/plain": [
       "6988.2701523366995"
      ]
     },
     "execution_count": 180,
     "metadata": {},
     "output_type": "execute_result"
    }
   ],
   "source": [
    "vincenty (Lat[0:2:1], Long[0:2:1]).meters/1000"
   ]
  },
  {
   "cell_type": "markdown",
   "metadata": {
    "collapsed": true
   },
   "source": [
    "\n",
    "##  https://pypi.python.org/pypi/folium\n",
    "\n",
    "#### Folium builds on the data wrangling strengths of the Python ecosystem and the mapping strengths of the Leaflet.js library"
   ]
  },
  {
   "cell_type": "code",
   "execution_count": 35,
   "metadata": {
    "collapsed": false
   },
   "outputs": [
    {
     "name": "stdout",
     "output_type": "stream",
     "text": [
      "            PortName  PortLat    PortLog\n",
      "0  Port of Rochefort   45.949   -0.95472\n",
      "1     Port of Tinian   14.964  145.62000\n"
     ]
    }
   ],
   "source": [
    "import pandas as pd\n",
    "DataCleanND = pd.read_csv('DataClean.csv',header=0) \n",
    "print(DataCleanND.head(2))\n",
    "Lat=[float(i) for i in DataCleanND['PortLat'].tolist()]\n",
    "Long=[float(i) for i in DataCleanND['PortLog'].tolist()]"
   ]
  },
  {
   "cell_type": "code",
   "execution_count": 80,
   "metadata": {
    "collapsed": false,
    "scrolled": false
   },
   "outputs": [
    {
     "data": {
      "text/html": [
       "\n",
       "           <script>\n",
       "               \n",
       "                function vct_load_lib(url, callback){\n",
       "                      if(typeof d3 !== 'undefined' &&\n",
       "                         url === 'http://d3js.org/d3.v3.min.js'){\n",
       "                        callback()\n",
       "                      }\n",
       "                      var s = document.createElement('script');\n",
       "                      s.src = url;\n",
       "                      s.async = true;\n",
       "                      s.onreadystatechange = s.onload = callback;\n",
       "                      s.onerror = function(){\n",
       "                        console.warn(\"failed to load library \" + url);\n",
       "                        };\n",
       "                      document.getElementsByTagName(\"head\")[0].appendChild(s);\n",
       "                };\n",
       "                var vincent_event = new CustomEvent(\n",
       "                  \"vincent_libs_loaded\",\n",
       "                  {bubbles: true, cancelable: true}\n",
       "                );\n",
       "                \n",
       "               function load_all_libs(){\n",
       "                  console.log('Loading Vincent libs...')\n",
       "                  vct_load_lib('http://d3js.org/d3.v3.min.js', function(){\n",
       "                  vct_load_lib('http://d3js.org/d3.geo.projection.v0.min.js', function(){\n",
       "                  vct_load_lib('http://wrobstory.github.io/d3-cloud/d3.layout.cloud.js', function(){\n",
       "                  vct_load_lib('http://wrobstory.github.io/vega/vega.v1.3.3.js', function(){\n",
       "                  window.dispatchEvent(vincent_event);\n",
       "                  });\n",
       "                  });\n",
       "                  });\n",
       "                  });\n",
       "               };\n",
       "               if(typeof define === \"function\" && define.amd){\n",
       "                    if (window['d3'] === undefined ||\n",
       "                        window['topojson'] === undefined){\n",
       "                        require.config(\n",
       "                            {paths: {\n",
       "                              d3: 'http://d3js.org/d3.v3.min',\n",
       "                              topojson: 'http://d3js.org/topojson.v1.min'\n",
       "                              }\n",
       "                            }\n",
       "                          );\n",
       "                        require([\"d3\"], function(d3){\n",
       "                            console.log('Loading Vincent from require.js...')\n",
       "                            window.d3 = d3;\n",
       "                            require([\"topojson\"], function(topojson){\n",
       "                                window.topojson = topojson;\n",
       "                                load_all_libs();\n",
       "                            });\n",
       "                        });\n",
       "                    } else {\n",
       "                        load_all_libs();\n",
       "                    };\n",
       "               }else{\n",
       "                    console.log('Require.js not found, loading manually...')\n",
       "                    load_all_libs();\n",
       "               };\n",
       "\n",
       "           </script>"
      ],
      "text/plain": [
       "<IPython.core.display.HTML object>"
      ]
     },
     "metadata": {},
     "output_type": "display_data"
    },
    {
     "data": {
      "text/html": [
       "<div id=\"vis345c057a4fa5405e92c2b5b1347edd42\"></div>\n",
       "<script>\n",
       "   ( function() {\n",
       "     var _do_plot = function() {\n",
       "       if (typeof vg === 'undefined') {\n",
       "         window.addEventListener('vincent_libs_loaded', _do_plot)\n",
       "         return;\n",
       "       }\n",
       "       vg.parse.spec({\"axes\": [{\"scale\": \"x\", \"title\": \"Data 1\", \"type\": \"x\"}, {\"scale\": \"y\", \"title\": \"Data 2\", \"type\": \"y\"}], \"data\": [{\"name\": \"table\", \"values\": [{\"col\": \"Data 2\", \"idx\": 15, \"val\": 42}, {\"col\": \"Data 2\", \"idx\": 29, \"val\": 27}, {\"col\": \"Data 2\", \"idx\": 63, \"val\": 52}, {\"col\": \"Data 2\", \"idx\": 28, \"val\": 18}, {\"col\": \"Data 2\", \"idx\": 45, \"val\": 61}, {\"col\": \"Data 2\", \"idx\": 73, \"val\": 19}, {\"col\": \"Data 2\", \"idx\": 15, \"val\": 62}, {\"col\": \"Data 2\", \"idx\": 62, \"val\": 33}]}], \"height\": 300, \"legends\": [], \"marks\": [{\"from\": {\"data\": \"table\"}, \"properties\": {\"enter\": {\"width\": {\"band\": true, \"offset\": -1, \"scale\": \"x\"}, \"x\": {\"field\": \"data.idx\", \"scale\": \"x\"}, \"y\": {\"field\": \"data.val\", \"scale\": \"y\"}, \"y2\": {\"scale\": \"y\", \"value\": 0}}, \"update\": {\"fill\": {\"value\": \"steelblue\"}}}, \"type\": \"rect\"}], \"padding\": {\"bottom\": 50, \"left\": 50, \"right\": 100, \"top\": 10}, \"scales\": [{\"domain\": {\"data\": \"table\", \"field\": \"data.idx\"}, \"name\": \"x\", \"range\": \"width\", \"type\": \"ordinal\"}, {\"domain\": {\"data\": \"table\", \"field\": \"data.val\"}, \"name\": \"y\", \"nice\": true, \"range\": \"height\"}], \"width\": 500}, function(chart) {\n",
       "         chart({el: \"#vis345c057a4fa5405e92c2b5b1347edd42\"}).update();\n",
       "       });\n",
       "     };\n",
       "     _do_plot();\n",
       "   })();\n",
       "</script>\n",
       "<style>.vega canvas {width: 100%;}</style>\n",
       "        "
      ],
      "text/plain": [
       "<IPython.core.display.HTML object>"
      ]
     },
     "metadata": {},
     "output_type": "display_data"
    }
   ],
   "source": [
    "import pandas as pd\n",
    "import vincent\n",
    "from vincent import (Visualization, Scale, DataRef, Data, PropertySet,\n",
    "                     Axis, ValueRef, MarkRef, MarkProperties, Mark)\n",
    "vincent.core.initialize_notebook()\n",
    "\n",
    "df = pd.DataFrame({'Data 1': [15, 29, 63, 28, 45, 73, 15, 62],\n",
    "                   'Data 2': [42, 27, 52, 18, 61, 19, 62, 33]})\n",
    "\n",
    "#Top level Visualization\n",
    "vis = Visualization(width=500, height=300)\n",
    "vis.padding = {'top': 10, 'left': 50, 'bottom': 50, 'right': 100}\n",
    "\n",
    "#Data. We're going to key Data 2 on Data 1\n",
    "vis.data.append(Data.from_pandas(df, columns=['Data 2'], key_on='Data 1', name='table'))\n",
    "\n",
    "#Scales\n",
    "vis.scales.append(Scale(name='x', type='ordinal', range='width',\n",
    "                        domain=DataRef(data='table', field=\"data.idx\")))\n",
    "vis.scales.append(Scale(name='y', range='height', nice=True,\n",
    "                        domain=DataRef(data='table', field=\"data.val\")))\n",
    "\n",
    "#Axes\n",
    "vis.axes.extend([Axis(type='x', scale='x'), Axis(type='y', scale='y')])\n",
    "\n",
    "#Marks\n",
    "enter_props = PropertySet(x=ValueRef(scale='x', field=\"data.idx\"),\n",
    "                                     y=ValueRef(scale='y', field=\"data.val\"),\n",
    "                                     width=ValueRef(scale='x', band=True, offset=-1),\n",
    "                                     y2=ValueRef(scale='y', value=0))\n",
    "update_props = PropertySet(fill=ValueRef(value='steelblue'))\n",
    "mark = Mark(type='rect', from_=MarkRef(data='table'),\n",
    "            properties=MarkProperties(enter=enter_props,\n",
    "            update=update_props))\n",
    "\n",
    "vis.marks.append(mark)\n",
    "vis.axis_titles(x='Data 1', y='Data 2')\n",
    "vis.to_json('vega.json')\n",
    "vis.display()"
   ]
  },
  {
   "cell_type": "code",
   "execution_count": null,
   "metadata": {
    "collapsed": true
   },
   "outputs": [],
   "source": [
    "import os\n",
    "cwd = os.getcwd()\n",
    "mac_data_dir = cwd+'vega.json'"
   ]
  },
  {
   "cell_type": "code",
   "execution_count": 84,
   "metadata": {
    "collapsed": false,
    "scrolled": true
   },
   "outputs": [
    {
     "name": "stderr",
     "output_type": "stream",
     "text": [
      "/opt/conda/lib/python3.5/site-packages/ipykernel/__main__.py:7: FutureWarning: circle_marker is deprecated. Use add_children(CircleMarker) instead\n",
      "/opt/conda/lib/python3.5/site-packages/ipykernel/__main__.py:10: FutureWarning: polygon_marker is deprecated. Use add_children(RegularPolygonMarker) instead\n",
      "/opt/conda/lib/python3.5/site-packages/ipykernel/__main__.py:12: FutureWarning: polygon_marker is deprecated. Use add_children(RegularPolygonMarker) instead\n",
      "/opt/conda/lib/python3.5/site-packages/ipykernel/__main__.py:16: FutureWarning: lat_lng_popover is deprecated. Use add_children(LatLngPopup) instead\n",
      "/opt/conda/lib/python3.5/site-packages/ipykernel/__main__.py:17: FutureWarning: Map.create_map is deprecated. Use Map.save instead\n"
     ]
    },
    {
     "data": {
      "text/html": [
       "<div style=\"width:100%;\"><div style=\"position:relative;width:100%;height:0;padding-bottom:60%;\"><iframe src=\"data:text/html;base64,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\" style=\"position:absolute;width:100%;height:100%;left:0;top:0;\"></iframe></div></div>"
      ],
      "text/plain": [
       "<folium.folium.Map at 0x7fe700ef8b00>"
      ]
     },
     "execution_count": 84,
     "metadata": {},
     "output_type": "execute_result"
    }
   ],
   "source": [
    "import folium\n",
    "\n",
    "map_osm = folium.Map(location=[45.389895, -75.697213], zoom_start=12,\n",
    "                   tiles='Stamen Terrain')\n",
    "map_osm.circle_marker(location=[45.389895, -75.697213], radius=10,\n",
    "                    popup='Carleton University', line_color='#3186cc',\n",
    "                    fill_color='#3186cc')\n",
    "\n",
    "map_osm.polygon_marker(location=[45.424318, -75.6859638], popup='UOttawa',\n",
    "                     fill_color='#45647d', num_sides=3, radius=10)\n",
    "map_osm.polygon_marker(location=[45.420238, -75.694646], popup='Larus',\n",
    "                     fill_color='#769d96', num_sides=6, radius=10)\n",
    "\n",
    "#map_osm.polygon_marker(location=[45.412905, -75.701173], fill_color='#43d9de',\n",
    " #                      radius=12, popup=(vis,mac_data_dir))\n",
    "map_osm.lat_lng_popover()\n",
    "map_osm.create_map(path='osm.html')\n",
    "map_osm"
   ]
  },
  {
   "cell_type": "code",
   "execution_count": 81,
   "metadata": {
    "collapsed": true
   },
   "outputs": [],
   "source": [
    "import os\n",
    "import folium\n",
    "\n",
    "print(folium.__version__)"
   ]
  },
  {
   "cell_type": "code",
   "execution_count": 82,
   "metadata": {
    "collapsed": false
   },
   "outputs": [
    {
     "data": {
      "text/plain": [
       "'/home/jovyan/work/VSRP/MAPvega.json'"
      ]
     },
     "execution_count": 82,
     "metadata": {},
     "output_type": "execute_result"
    }
   ],
   "source": [
    "mac_data_dir"
   ]
  },
  {
   "cell_type": "code",
   "execution_count": 88,
   "metadata": {
    "collapsed": true
   },
   "outputs": [],
   "source": [
    "\n",
    "import numpy as np\n",
    "\n",
    "size = 100\n",
    "lons = np.random.randint(-180, 180, size=size)\n",
    "lats = np.random.randint(-90, 90, size=size)\n",
    "\n",
    "locations = list(zip(lons, lats))\n",
    "popups = ['{}'.format(loc) for loc in locations]"
   ]
  },
  {
   "cell_type": "code",
   "execution_count": 90,
   "metadata": {
    "collapsed": false
   },
   "outputs": [
    {
     "data": {
      "text/html": [
       "<div style=\"width:100%;\"><div style=\"position:relative;width:100%;height:0;padding-bottom:60%;\"><iframe src=\"data:text/html;base64,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\" style=\"position:absolute;width:100%;height:100%;left:0;top:0;\"></iframe></div></div>"
      ],
      "text/plain": [
       "<folium.folium.Map at 0x7fe700524a90>"
      ]
     },
     "execution_count": 90,
     "metadata": {},
     "output_type": "execute_result"
    }
   ],
   "source": [
    "from folium.plugins import MarkerCluster\n",
    "\n",
    "m = folium.Map(location=[np.mean(lats), np.mean(lons)],\n",
    "                  tiles='Cartodb Positron', zoom_start=1)\n",
    "\n",
    "m.add_child(MarkerCluster(locations=locations, popups=popups))\n",
    "\n",
    "#m.save(os.path.join('results', '1000_MarkerCluster.html'))\n",
    "m.save('1000_MarkerCluster.html')\n",
    "m"
   ]
  },
  {
   "cell_type": "code",
   "execution_count": null,
   "metadata": {
    "collapsed": true
   },
   "outputs": [],
   "source": [
    "\n",
    "import os\n",
    "import folium\n",
    "\n",
    "print(folium.__version__)"
   ]
  },
  {
   "cell_type": "code",
   "execution_count": 92,
   "metadata": {
    "collapsed": true
   },
   "outputs": [],
   "source": [
    "import numpy as np\n",
    "\n",
    "data = (np.random.normal(size=(100, 3)) *\n",
    "        np.array([[1, 1, 1]]) +\n",
    "        np.array([[48, 5, 1]])).tolist()"
   ]
  },
  {
   "cell_type": "code",
   "execution_count": 93,
   "metadata": {
    "collapsed": false
   },
   "outputs": [
    {
     "data": {
      "text/html": [
       "<div style=\"width:100%;\"><div style=\"position:relative;width:100%;height:0;padding-bottom:60%;\"><iframe src=\"data:text/html;base64,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\" style=\"position:absolute;width:100%;height:100%;left:0;top:0;\"></iframe></div></div>"
      ],
      "text/plain": [
       "<folium.folium.Map at 0x7fe70020d438>"
      ]
     },
     "execution_count": 93,
     "metadata": {},
     "output_type": "execute_result"
    }
   ],
   "source": [
    "from folium.plugins import HeatMap\n",
    "\n",
    "m = folium.Map([48., 5.], tiles='stamentoner', zoom_start=6)\n",
    "\n",
    "HeatMap(data).add_to(m)\n",
    "\n",
    "#m.save(os.path.join('results', 'Heatmap.html'))\n",
    "m.save('Heatmap.html')\n",
    "m"
   ]
  },
  {
   "cell_type": "code",
   "execution_count": null,
   "metadata": {
    "collapsed": true
   },
   "outputs": [],
   "source": []
  }
 ],
 "metadata": {
  "kernelspec": {
   "display_name": "Python 3",
   "language": "python",
   "name": "python3"
  },
  "language_info": {
   "codemirror_mode": {
    "name": "ipython",
    "version": 3
   },
   "file_extension": ".py",
   "mimetype": "text/x-python",
   "name": "python",
   "nbconvert_exporter": "python",
   "pygments_lexer": "ipython3",
   "version": "3.5.2"
  }
 },
 "nbformat": 4,
 "nbformat_minor": 2
}
