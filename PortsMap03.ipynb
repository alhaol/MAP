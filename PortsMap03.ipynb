{
 "cells": [
  {
   "cell_type": "markdown",
   "metadata": {},
   "source": [
    "# Ibrahim Abualhaol, PhD, P.Eng, SMIEE\n",
    "### Research Assocoiate, Larus Technologies\n",
    "#### Ottawa, ON Canada \n",
    "#### MAR 02, 2016"
   ]
  },
  {
   "cell_type": "markdown",
   "metadata": {},
   "source": [
    "* This notebook includes geting ports with Lat, Long, Name and visulize them on a global map.\n",
    "* Libraries used are \n",
    ">>"
   ]
  },
  {
   "cell_type": "code",
   "execution_count": 20,
   "metadata": {
    "collapsed": false,
    "scrolled": true
   },
   "outputs": [
    {
     "data": {
      "text/html": [
       "<div>\n",
       "<table border=\"1\" class=\"dataframe\">\n",
       "  <thead>\n",
       "    <tr style=\"text-align: right;\">\n",
       "      <th></th>\n",
       "      <th>Field1</th>\n",
       "      <th>Text357</th>\n",
       "      <th>Combo184</th>\n",
       "      <th>Field2</th>\n",
       "      <th>Field4</th>\n",
       "      <th>Field5</th>\n",
       "      <th>Combo353</th>\n",
       "      <th>Field7</th>\n",
       "      <th>Field8</th>\n",
       "      <th>Combo214</th>\n",
       "      <th>...</th>\n",
       "      <th>Combo332</th>\n",
       "      <th>Combo335</th>\n",
       "      <th>Combo337</th>\n",
       "      <th>Combo339</th>\n",
       "      <th>Combo341</th>\n",
       "      <th>Combo343</th>\n",
       "      <th>Combo345</th>\n",
       "      <th>Combo347</th>\n",
       "      <th>Combo349</th>\n",
       "      <th>Combo351</th>\n",
       "    </tr>\n",
       "  </thead>\n",
       "  <tbody>\n",
       "    <tr>\n",
       "      <th>0</th>\n",
       "      <td>70</td>\n",
       "      <td>60</td>\n",
       "      <td>IS</td>\n",
       "      <td>KEFLAVIK</td>\n",
       "      <td>64</td>\n",
       "      <td>0</td>\n",
       "      <td>N</td>\n",
       "      <td>22</td>\n",
       "      <td>33</td>\n",
       "      <td>W</td>\n",
       "      <td>...</td>\n",
       "      <td>NaN</td>\n",
       "      <td>Y</td>\n",
       "      <td>Y</td>\n",
       "      <td>Y</td>\n",
       "      <td>Y</td>\n",
       "      <td>Y</td>\n",
       "      <td>Y</td>\n",
       "      <td>C</td>\n",
       "      <td>NaN</td>\n",
       "      <td>S</td>\n",
       "    </tr>\n",
       "    <tr>\n",
       "      <th>1</th>\n",
       "      <td>75</td>\n",
       "      <td>60</td>\n",
       "      <td>IS</td>\n",
       "      <td>STRAUMSVIK</td>\n",
       "      <td>64</td>\n",
       "      <td>3</td>\n",
       "      <td>N</td>\n",
       "      <td>22</td>\n",
       "      <td>3</td>\n",
       "      <td>W</td>\n",
       "      <td>...</td>\n",
       "      <td>NaN</td>\n",
       "      <td>NaN</td>\n",
       "      <td>NaN</td>\n",
       "      <td>NaN</td>\n",
       "      <td>NaN</td>\n",
       "      <td>NaN</td>\n",
       "      <td>NaN</td>\n",
       "      <td>NaN</td>\n",
       "      <td>NaN</td>\n",
       "      <td>NaN</td>\n",
       "    </tr>\n",
       "  </tbody>\n",
       "</table>\n",
       "<p>2 rows × 76 columns</p>\n",
       "</div>"
      ],
      "text/plain": [
       "   Field1  Text357 Combo184      Field2  Field4  Field5 Combo353  Field7  \\\n",
       "0      70       60       IS    KEFLAVIK      64       0        N      22   \n",
       "1      75       60       IS  STRAUMSVIK      64       3        N      22   \n",
       "\n",
       "   Field8 Combo214   ...    Combo332 Combo335 Combo337 Combo339 Combo341  \\\n",
       "0      33        W   ...         NaN        Y        Y        Y        Y   \n",
       "1       3        W   ...         NaN      NaN      NaN      NaN      NaN   \n",
       "\n",
       "  Combo343 Combo345 Combo347 Combo349 Combo351  \n",
       "0        Y        Y        C      NaN        S  \n",
       "1      NaN      NaN      NaN      NaN      NaN  \n",
       "\n",
       "[2 rows x 76 columns]"
      ]
     },
     "execution_count": 20,
     "metadata": {},
     "output_type": "execute_result"
    }
   ],
   "source": [
    "import pandas as pd\n",
    "import os\n",
    "#df = pd.DataFrame(data, index = ['Cochice', 'Pima', 'Santa Cruz', 'Maricopa', 'Yuma'])\n",
    "df = pd.read_csv(os.path.join('data','PortData2017.csv'), header=0)\n",
    "df.head(2)"
   ]
  },
  {
   "cell_type": "code",
   "execution_count": 17,
   "metadata": {
    "collapsed": false
   },
   "outputs": [
    {
     "name": "stdout",
     "output_type": "stream",
     "text": [
      "(36.9525, -110.07249999999999)\n",
      "(36.9525, -110.07249999999999)\n",
      "[36, 57, 9.000000000002046]\n"
     ]
    }
   ],
   "source": [
    "import re\n",
    "\n",
    "def dms2dd(degrees, minutes, seconds, direction):\n",
    "    dd = float(degrees) + float(minutes)/60 + float(seconds)/(60*60);\n",
    "    if direction == 'S' or direction == 'W':\n",
    "        dd *= -1\n",
    "    return dd;\n",
    "\n",
    "def dd2dms(deg):\n",
    "    d = int(deg)\n",
    "    md = abs(deg - d) * 60\n",
    "    m = int(md)\n",
    "    sd = (md - m) * 60\n",
    "    return [d, m, sd]\n",
    "\n",
    "def parse_dms(dms):\n",
    "    parts = re.split('[^\\d\\w]+', dms)\n",
    "    lat = dms2dd(parts[0], parts[1], parts[2], parts[3])\n",
    "    lng = dms2dd(parts[4], parts[5], parts[6], parts[7])\n",
    "\n",
    "    return (lat, lng)\n",
    "\n",
    "dd = parse_dms(\"36°57'9' N 110°4'21' W\")\n",
    "print(dd)\n",
    "print(dd)\n",
    "print(dd2dms(dd[0]))\n"
   ]
  },
  {
   "cell_type": "code",
   "execution_count": 11,
   "metadata": {
    "collapsed": true
   },
   "outputs": [],
   "source": [
    "lat, lon = u'''0 25 S, 91 7 W'''.split(', ')"
   ]
  },
  {
   "cell_type": "code",
   "execution_count": 12,
   "metadata": {
    "collapsed": false
   },
   "outputs": [
    {
     "data": {
      "text/plain": [
       "'0 25 S'"
      ]
     },
     "execution_count": 12,
     "metadata": {},
     "output_type": "execute_result"
    }
   ],
   "source": [
    "lat"
   ]
  },
  {
   "cell_type": "code",
   "execution_count": 102,
   "metadata": {
    "collapsed": false
   },
   "outputs": [
    {
     "name": "stdout",
     "output_type": "stream",
     "text": [
      "[45.949, 14.964]\n",
      "[-0.9547200000000001, 145.62]\n",
      "['Port of Rochefort', 'Port of Tinian']\n"
     ]
    }
   ],
   "source": [
    "# The data is not organized. Here we extract the columns in 3 lists \n",
    "LatLong=df[:][1].tolist() # The latitude are given in the second column\n",
    "Lat=LatLong[0::2] # getting the even position \n",
    "Long=LatLong[1::2] # getting the odd position \n",
    "Ports=df[::2][0].tolist() # getting the port names without NaN\n",
    "print (Lat[0:2])\n",
    "print (Long[0:2])\n",
    "print (Ports[0:2])"
   ]
  },
  {
   "cell_type": "code",
   "execution_count": 103,
   "metadata": {
    "collapsed": false
   },
   "outputs": [
    {
     "data": {
      "text/plain": [
       "True"
      ]
     },
     "execution_count": 103,
     "metadata": {},
     "output_type": "execute_result"
    }
   ],
   "source": [
    "# checking the lengths of all columns \n",
    "len(Long)==len(Lat)==len(Ports)  "
   ]
  },
  {
   "cell_type": "code",
   "execution_count": 109,
   "metadata": {
    "collapsed": false
   },
   "outputs": [
    {
     "name": "stdout",
     "output_type": "stream",
     "text": [
      "data= [['Port of Rochefort' '45.949' '-0.9547200000000001']\n",
      " ['Port of Tinian' '14.964' '145.62']\n",
      " ['Port of Ceuta' '35.89' '-5.3164']]\n"
     ]
    }
   ],
   "source": [
    "import numpy as np\n",
    "data = np.dstack([Ports,Lat,Long])\n",
    "print ('data=',data[0][0:3])\n",
    "DataClean=pd.DataFrame (data[0][0:], columns=['PortName', 'PortLat','PortLong'])"
   ]
  },
  {
   "cell_type": "code",
   "execution_count": 188,
   "metadata": {
    "collapsed": false
   },
   "outputs": [],
   "source": [
    "DataClean.to_csv(os.path.join('data','DataClean.csv'),index=False )  # Save as data clean with no header"
   ]
  },
  {
   "cell_type": "code",
   "execution_count": 114,
   "metadata": {
    "collapsed": false,
    "scrolled": true
   },
   "outputs": [
    {
     "name": "stdout",
     "output_type": "stream",
     "text": [
      "=================Port Lat============\n",
      "count    5507.000000\n",
      "mean       32.573678\n",
      "std        25.494622\n",
      "min       -54.933000\n",
      "25%        19.454000\n",
      "50%        40.041000\n",
      "75%        50.818500\n",
      "max        78.928000\n",
      "Name: PortLat, dtype: float64\n",
      "=================Port Long============\n",
      "count    5507.000000\n",
      "mean       11.472626\n",
      "std        76.433069\n",
      "min      -179.120000\n",
      "25%       -57.527500\n",
      "50%         8.534400\n",
      "75%        48.698000\n",
      "max       179.360000\n",
      "Name: PortLong, dtype: float64\n",
      "=================Port NAmes============\n",
      "count                        5507\n",
      "unique                       4888\n",
      "top       Port of South Louisiana\n",
      "freq                            8\n",
      "Name: PortName, dtype: object\n",
      "Index(['PortName', 'PortLat', 'PortLong'], dtype='object')\n"
     ]
    }
   ],
   "source": [
    "Data = pd.read_csv('DataClean.csv',header=0) \n",
    "Data.head()\n",
    "print(\"=================Port Lat============\")\n",
    "print(Data['PortLat'].describe())\n",
    "print(\"=================Port Long============\")\n",
    "print(Data['PortLong'].describe())\n",
    "print(\"=================Port Names============\")\n",
    "print(Data['PortName'].describe())\n",
    "print(Data.columns)"
   ]
  },
  {
   "cell_type": "code",
   "execution_count": 116,
   "metadata": {
    "collapsed": false
   },
   "outputs": [
    {
     "name": "stdout",
     "output_type": "stream",
     "text": [
      "Unique Port Lat = 5192\n",
      "Unique Port Long = 5176\n",
      "Unique Port Name = 4888\n",
      "Number of rows = 5507\n"
     ]
    }
   ],
   "source": [
    "print(\"Unique Port Lat =\", len(Data.PortLat.unique()))\n",
    "print(\"Unique Port Long =\",len(Data.PortLong.unique()))\n",
    "print(\"Unique Port Name =\",len(Data.PortName.unique()))\n",
    "print(\"Number of rows =\",len(Data.PortName))"
   ]
  },
  {
   "cell_type": "code",
   "execution_count": 118,
   "metadata": {
    "collapsed": false,
    "scrolled": true
   },
   "outputs": [
    {
     "name": "stdout",
     "output_type": "stream",
     "text": [
      "True\n",
      "True\n",
      "4888\n",
      "=================Port Lat============\n",
      "count    4888.000000\n",
      "mean       32.616375\n",
      "std        25.318803\n",
      "min       -54.933000\n",
      "25%        20.858250\n",
      "50%        40.054000\n",
      "75%        50.569500\n",
      "max        78.917000\n",
      "Name: PortLat, dtype: float64\n",
      "=================Port Long============\n",
      "count    4888.000000\n",
      "mean       10.133638\n",
      "std        75.966182\n",
      "min      -179.120000\n",
      "25%       -56.535750\n",
      "50%         8.277250\n",
      "75%        42.091750\n",
      "max       179.360000\n",
      "Name: PortLong, dtype: float64\n",
      "=================Port Names============\n",
      "count               4888\n",
      "unique              4888\n",
      "top       Port of Luarca\n",
      "freq                   1\n",
      "Name: PortName, dtype: object\n",
      "Index(['PortName', 'PortLat', 'PortLong'], dtype='object')\n"
     ]
    }
   ],
   "source": [
    "# Cleaning the list from all redundant Port Names \n",
    "DataCleanND=Data.drop_duplicates(subset='PortName',keep='last')\n",
    "print(len(DataCleanND.PortName.unique())==len(DataCleanND.PortLat[:]))\n",
    "print(len(DataCleanND.PortName.unique())==len(DataCleanND.PortLong[:]))\n",
    "print(len(DataCleanND.PortName.unique()))\n",
    "\n",
    "print(\"=================Port Lat============\")\n",
    "print(DataCleanND['PortLat'].describe())\n",
    "print(\"=================Port Long============\")\n",
    "print(DataCleanND['PortLong'].describe())\n",
    "print(\"=================Port Names============\")\n",
    "print(DataCleanND['PortName'].describe())\n",
    "print(DataCleanND.columns)"
   ]
  },
  {
   "cell_type": "code",
   "execution_count": 189,
   "metadata": {
    "collapsed": true
   },
   "outputs": [],
   "source": [
    "# Save the clean and without redundancy version\n",
    "DataCleanND.to_csv(os.path.join('data','DataCleanND.csv'),index=False )"
   ]
  },
  {
   "cell_type": "markdown",
   "metadata": {},
   "source": [
    "## Ploting the ports using gmplot"
   ]
  },
  {
   "cell_type": "code",
   "execution_count": 190,
   "metadata": {
    "collapsed": false
   },
   "outputs": [
    {
     "data": {
      "text/html": [
       "<div>\n",
       "<table border=\"1\" class=\"dataframe\">\n",
       "  <thead>\n",
       "    <tr style=\"text-align: right;\">\n",
       "      <th></th>\n",
       "      <th>PortName</th>\n",
       "      <th>PortLat</th>\n",
       "      <th>PortLong</th>\n",
       "    </tr>\n",
       "  </thead>\n",
       "  <tbody>\n",
       "    <tr>\n",
       "      <th>0</th>\n",
       "      <td>Port of Rochefort</td>\n",
       "      <td>45.949</td>\n",
       "      <td>-0.95472</td>\n",
       "    </tr>\n",
       "    <tr>\n",
       "      <th>1</th>\n",
       "      <td>Port of Tinian</td>\n",
       "      <td>14.964</td>\n",
       "      <td>145.62000</td>\n",
       "    </tr>\n",
       "    <tr>\n",
       "      <th>2</th>\n",
       "      <td>Port of Ceuta</td>\n",
       "      <td>35.890</td>\n",
       "      <td>-5.31640</td>\n",
       "    </tr>\n",
       "    <tr>\n",
       "      <th>3</th>\n",
       "      <td>Port of Oban</td>\n",
       "      <td>56.413</td>\n",
       "      <td>-5.47530</td>\n",
       "    </tr>\n",
       "    <tr>\n",
       "      <th>4</th>\n",
       "      <td>Port of Grytviken</td>\n",
       "      <td>-54.283</td>\n",
       "      <td>-36.49500</td>\n",
       "    </tr>\n",
       "  </tbody>\n",
       "</table>\n",
       "</div>"
      ],
      "text/plain": [
       "            PortName  PortLat   PortLong\n",
       "0  Port of Rochefort   45.949   -0.95472\n",
       "1     Port of Tinian   14.964  145.62000\n",
       "2      Port of Ceuta   35.890   -5.31640\n",
       "3       Port of Oban   56.413   -5.47530\n",
       "4  Port of Grytviken  -54.283  -36.49500"
      ]
     },
     "execution_count": 190,
     "metadata": {},
     "output_type": "execute_result"
    }
   ],
   "source": [
    "DataCleanND = pd.read_csv(os.path.join('data','DataClean.csv'),header=0) \n",
    "DataCleanND.head()"
   ]
  },
  {
   "cell_type": "code",
   "execution_count": 185,
   "metadata": {
    "collapsed": false
   },
   "outputs": [],
   "source": [
    "import gmplot\n",
    "Lat=[float(i) for i in DataCleanND['PortLat'].tolist()]\n",
    "Long=[float(i) for i in DataCleanND['PortLong'].tolist()]\n",
    "gmap = gmplot.GoogleMapPlotter(45.512488, -73.548487, 1) # Port of Montreal\n",
    "#gmap.grid(45.641888,45.9, 0.01,-73.182678, -73.0, 0.01)\n",
    "#gmap.scatter(Lat, Long, '#3B0B39', size=1000, marker=True)\n",
    "#gmap.scatter(Lat, Long, 'k', marker=True)\n",
    "#heatmap(self, lats, lngs, threshold=10, radius=10, gradient=None, opacity=0.6, dissipating=True):\n",
    "gmap.heatmap(Lat, Long, threshold=100, radius=15)\n",
    "#gmap.scatter(Lat, Long, c='r', marker=True)\n",
    "#gmap.scatter(Lat, Long, s=90, marker=False, alpha=0.1)\n",
    "# Slecting the first 1888\n",
    "NPorts=len(Lat)-3000;\n",
    "for i in range(NPorts):\n",
    "    gmap.circle(Lat[i], Long[i], 500, \"#FF0000\", ew=2)\n",
    "gmap.draw(os.path.join('HTMLMAPS',\"PortsMAP_ND.html\"))\n"
   ]
  },
  {
   "cell_type": "code",
   "execution_count": 192,
   "metadata": {
    "collapsed": false
   },
   "outputs": [
    {
     "data": {
      "text/html": [
       "<iframe src=HTMLMAPS/PortsMAP_ND.html width=600 height=350></iframe>"
      ],
      "text/plain": [
       "<IPython.core.display.HTML object>"
      ]
     },
     "execution_count": 192,
     "metadata": {},
     "output_type": "execute_result"
    }
   ],
   "source": [
    "# You can open it here\n",
    "import IPython\n",
    "url = os.path.join('HTMLMAPS','PortsMAP_ND.html')\n",
    "iframe = '<iframe src=' + url + ' width=600 height=350></iframe>'\n",
    "IPython.display.HTML(iframe)"
   ]
  },
  {
   "cell_type": "markdown",
   "metadata": {
    "collapsed": true
   },
   "source": [
    "## Measuring Distance\n",
    "\n",
    "Geopy can calculate geodesic distance between two points using the Vincenty distance or great-circle distance formulas, with a default of Vincenty available as the class geopy.distance.distance, and the computed distance available as attributes (e.g., miles, meters, etc.).\n",
    "\n",
    "Here’s an example usage of Vincenty distance:\n",
    "\n",
    ">>> from geopy.distance import vincenty\n",
    "\n",
    ">>> newport_ri = (41.49008, -71.312796)\n",
    "\n",
    ">>> cleveland_oh = (41.499498, -81.695391)\n",
    "\n",
    ">>> print(vincenty(newport_ri, cleveland_oh).miles)\n",
    "\n",
    "538.3904451566326\n",
    "\n",
    "Using great-circle distance:\n",
    "\n",
    ">>> from geopy.distance import great_circle\n",
    "\n",
    ">>> newport_ri = (41.49008, -71.312796)\n",
    "\n",
    ">>> cleveland_oh = (41.499498, -81.695391)\n",
    "\n",
    ">>> print(great_circle(newport_ri, cleveland_oh).miles)\n",
    "\n",
    "537.1485284062816"
   ]
  },
  {
   "cell_type": "markdown",
   "metadata": {},
   "source": [
    "## Tool to find distances between two Points \n",
    "\n",
    "http://www.findlatitudeandlongitude.com/click-lat-lng-list/#.WLXlcDsrJhG"
   ]
  },
  {
   "cell_type": "code",
   "execution_count": 127,
   "metadata": {
    "collapsed": false
   },
   "outputs": [
    {
     "name": "stdout",
     "output_type": "stream",
     "text": [
      "538.3904451566326  miles\n"
     ]
    }
   ],
   "source": [
    "#!pip install geopy\n",
    "from geopy.distance import vincenty\n",
    "newport_ri = (41.49008, -71.312796)\n",
    "cleveland_oh = (41.499498, -81.695391)\n",
    "print(vincenty(newport_ri, cleveland_oh).miles, \" miles\")"
   ]
  },
  {
   "cell_type": "code",
   "execution_count": 128,
   "metadata": {
    "collapsed": false
   },
   "outputs": [
    {
     "name": "stdout",
     "output_type": "stream",
     "text": [
      "866.4554329011002  Km\n"
     ]
    }
   ],
   "source": [
    "#!pip install geopy\n",
    "from geopy.distance import vincenty, great_circle\n",
    "newport_ri = (41.49008, -71.312796)\n",
    "cleveland_oh = (41.499498, -81.695391)\n",
    "print(vincenty(newport_ri, cleveland_oh).meters/1000, \" Km\")"
   ]
  },
  {
   "cell_type": "code",
   "execution_count": 129,
   "metadata": {
    "collapsed": false
   },
   "outputs": [
    {
     "name": "stdout",
     "output_type": "stream",
     "text": [
      "165.00803061316566  Km\n",
      "164.59093937068678  Km\n"
     ]
    }
   ],
   "source": [
    "MontReal=(45.510197,-73.600159)\n",
    "Ottawa= (45.425444,-75.706787)\n",
    "print(vincenty(MontReal, Ottawa).meters/1000, \" Km\")\n",
    "print(great_circle(MontReal, Ottawa).meters/1000, \" Km\")"
   ]
  },
  {
   "cell_type": "code",
   "execution_count": 130,
   "metadata": {
    "collapsed": false,
    "scrolled": true
   },
   "outputs": [
    {
     "data": {
      "text/plain": [
       "13096.483126395613"
      ]
     },
     "execution_count": 130,
     "metadata": {},
     "output_type": "execute_result"
    }
   ],
   "source": [
    "vincenty (Lat[0:2:1], Long[0:2:1]).meters/1000"
   ]
  },
  {
   "cell_type": "markdown",
   "metadata": {
    "collapsed": true
   },
   "source": [
    "\n",
    "##  https://pypi.python.org/pypi/folium\n",
    "\n",
    "## https://media.readthedocs.org/pdf/folium/latest/folium.pdf\n",
    "\n",
    "* Folium builds on the data wrangling strengths of the Python ecosystem and the mapping strengths of the Leaflet.js library"
   ]
  },
  {
   "cell_type": "code",
   "execution_count": null,
   "metadata": {
    "collapsed": false,
    "scrolled": true
   },
   "outputs": [],
   "source": []
  },
  {
   "cell_type": "markdown",
   "metadata": {},
   "source": [
    "## Using vincent library to prepare Charts with json "
   ]
  },
  {
   "cell_type": "code",
   "execution_count": 193,
   "metadata": {
    "collapsed": false
   },
   "outputs": [
    {
     "data": {
      "text/html": [
       "\n",
       "           <script>\n",
       "               \n",
       "                function vct_load_lib(url, callback){\n",
       "                      if(typeof d3 !== 'undefined' &&\n",
       "                         url === 'http://d3js.org/d3.v3.min.js'){\n",
       "                        callback()\n",
       "                      }\n",
       "                      var s = document.createElement('script');\n",
       "                      s.src = url;\n",
       "                      s.async = true;\n",
       "                      s.onreadystatechange = s.onload = callback;\n",
       "                      s.onerror = function(){\n",
       "                        console.warn(\"failed to load library \" + url);\n",
       "                        };\n",
       "                      document.getElementsByTagName(\"head\")[0].appendChild(s);\n",
       "                };\n",
       "                var vincent_event = new CustomEvent(\n",
       "                  \"vincent_libs_loaded\",\n",
       "                  {bubbles: true, cancelable: true}\n",
       "                );\n",
       "                \n",
       "               function load_all_libs(){\n",
       "                  console.log('Loading Vincent libs...')\n",
       "                  vct_load_lib('http://d3js.org/d3.v3.min.js', function(){\n",
       "                  vct_load_lib('http://d3js.org/d3.geo.projection.v0.min.js', function(){\n",
       "                  vct_load_lib('http://wrobstory.github.io/d3-cloud/d3.layout.cloud.js', function(){\n",
       "                  vct_load_lib('http://wrobstory.github.io/vega/vega.v1.3.3.js', function(){\n",
       "                  window.dispatchEvent(vincent_event);\n",
       "                  });\n",
       "                  });\n",
       "                  });\n",
       "                  });\n",
       "               };\n",
       "               if(typeof define === \"function\" && define.amd){\n",
       "                    if (window['d3'] === undefined ||\n",
       "                        window['topojson'] === undefined){\n",
       "                        require.config(\n",
       "                            {paths: {\n",
       "                              d3: 'http://d3js.org/d3.v3.min',\n",
       "                              topojson: 'http://d3js.org/topojson.v1.min'\n",
       "                              }\n",
       "                            }\n",
       "                          );\n",
       "                        require([\"d3\"], function(d3){\n",
       "                            console.log('Loading Vincent from require.js...')\n",
       "                            window.d3 = d3;\n",
       "                            require([\"topojson\"], function(topojson){\n",
       "                                window.topojson = topojson;\n",
       "                                load_all_libs();\n",
       "                            });\n",
       "                        });\n",
       "                    } else {\n",
       "                        load_all_libs();\n",
       "                    };\n",
       "               }else{\n",
       "                    console.log('Require.js not found, loading manually...')\n",
       "                    load_all_libs();\n",
       "               };\n",
       "\n",
       "           </script>"
      ],
      "text/plain": [
       "<IPython.core.display.HTML object>"
      ]
     },
     "metadata": {},
     "output_type": "display_data"
    },
    {
     "data": {
      "text/html": [
       "<div id=\"vis4c1f31e95b664c23acc17812d9f2149c\"></div>\n",
       "<script>\n",
       "   ( function() {\n",
       "     var _do_plot = function() {\n",
       "       if (typeof vg === 'undefined') {\n",
       "         window.addEventListener('vincent_libs_loaded', _do_plot)\n",
       "         return;\n",
       "       }\n",
       "       vg.parse.spec({\"axes\": [{\"scale\": \"x\", \"title\": \"Data 1\", \"type\": \"x\"}, {\"scale\": \"y\", \"title\": \"Data 2\", \"type\": \"y\"}], \"data\": [{\"name\": \"table\", \"values\": [{\"col\": \"Data 2\", \"idx\": 15, \"val\": 42}, {\"col\": \"Data 2\", \"idx\": 29, \"val\": 27}, {\"col\": \"Data 2\", \"idx\": 63, \"val\": 52}, {\"col\": \"Data 2\", \"idx\": 28, \"val\": 18}, {\"col\": \"Data 2\", \"idx\": 45, \"val\": 61}, {\"col\": \"Data 2\", \"idx\": 73, \"val\": 19}, {\"col\": \"Data 2\", \"idx\": 15, \"val\": 62}, {\"col\": \"Data 2\", \"idx\": 62, \"val\": 33}]}], \"height\": 50, \"legends\": [], \"marks\": [{\"from\": {\"data\": \"table\"}, \"properties\": {\"enter\": {\"width\": {\"band\": true, \"offset\": -1, \"scale\": \"x\"}, \"x\": {\"field\": \"data.idx\", \"scale\": \"x\"}, \"y\": {\"field\": \"data.val\", \"scale\": \"y\"}, \"y2\": {\"scale\": \"y\", \"value\": 0}}, \"update\": {\"fill\": {\"value\": \"steelblue\"}}}, \"type\": \"rect\"}], \"padding\": {\"bottom\": 1, \"left\": 1, \"right\": 1, \"top\": 1}, \"scales\": [{\"domain\": {\"data\": \"table\", \"field\": \"data.idx\"}, \"name\": \"x\", \"range\": \"width\", \"type\": \"ordinal\"}, {\"domain\": {\"data\": \"table\", \"field\": \"data.val\"}, \"name\": \"y\", \"nice\": true, \"range\": \"height\"}], \"width\": 50}, function(chart) {\n",
       "         chart({el: \"#vis4c1f31e95b664c23acc17812d9f2149c\"}).update();\n",
       "       });\n",
       "     };\n",
       "     _do_plot();\n",
       "   })();\n",
       "</script>\n",
       "<style>.vega canvas {width: 100%;}</style>\n",
       "        "
      ],
      "text/plain": [
       "<IPython.core.display.HTML object>"
      ]
     },
     "metadata": {},
     "output_type": "display_data"
    }
   ],
   "source": [
    "\n",
    "import pandas as pd\n",
    "import vincent\n",
    "from vincent import (Visualization, Scale, DataRef, Data, PropertySet,\n",
    "                     Axis, ValueRef, MarkRef, MarkProperties, Mark)\n",
    "vincent.core.initialize_notebook()\n",
    "\n",
    "df = pd.DataFrame({'Data 1': [15, 29, 63, 28, 45, 73, 15, 62],\n",
    "                   'Data 2': [42, 27, 52, 18, 61, 19, 62, 33]})\n",
    "\n",
    "#Top level Visualization\n",
    "vis = Visualization(width=50, height=50)\n",
    "vis.padding = {'top': 1, 'left': 1, 'bottom': 1, 'right': 1}\n",
    "\n",
    "#Data. We're going to key Data 2 on Data 1\n",
    "vis.data.append(Data.from_pandas(df, columns=['Data 2'], key_on='Data 1', name='table'))\n",
    "\n",
    "#Scales\n",
    "vis.scales.append(Scale(name='x', type='ordinal', range='width',\n",
    "                        domain=DataRef(data='table', field=\"data.idx\")))\n",
    "vis.scales.append(Scale(name='y', range='height', nice=True,\n",
    "                        domain=DataRef(data='table', field=\"data.val\")))\n",
    "\n",
    "#Axes\n",
    "vis.axes.extend([Axis(type='x', scale='x'), Axis(type='y', scale='y')])\n",
    "\n",
    "#Marks\n",
    "enter_props = PropertySet(x=ValueRef(scale='x', field=\"data.idx\"),\n",
    "                                     y=ValueRef(scale='y', field=\"data.val\"),\n",
    "                                     width=ValueRef(scale='x', band=True, offset=-1),\n",
    "                                     y2=ValueRef(scale='y', value=0))\n",
    "update_props = PropertySet(fill=ValueRef(value='steelblue'))\n",
    "mark = Mark(type='rect', from_=MarkRef(data='table'),\n",
    "            properties=MarkProperties(enter=enter_props,\n",
    "            update=update_props))\n",
    "\n",
    "vis.marks.append(mark)\n",
    "vis.axis_titles(x='Data 1', y='Data 2')\n",
    "vis.to_json(os.path.join('data','vega.json'))\n",
    "vis.display()"
   ]
  },
  {
   "cell_type": "code",
   "execution_count": 194,
   "metadata": {
    "collapsed": true
   },
   "outputs": [],
   "source": [
    "import os\n",
    "cwd = os.getcwd()\n",
    "mac_data_dir = cwd+'vega.json'"
   ]
  },
  {
   "cell_type": "code",
   "execution_count": 195,
   "metadata": {
    "collapsed": false,
    "scrolled": false
   },
   "outputs": [
    {
     "name": "stderr",
     "output_type": "stream",
     "text": [
      "/opt/conda/lib/python3.5/site-packages/ipykernel/__main__.py:7: FutureWarning: circle_marker is deprecated. Use add_children(CircleMarker) instead\n",
      "/opt/conda/lib/python3.5/site-packages/ipykernel/__main__.py:10: FutureWarning: polygon_marker is deprecated. Use add_children(RegularPolygonMarker) instead\n",
      "/opt/conda/lib/python3.5/site-packages/ipykernel/__main__.py:12: FutureWarning: polygon_marker is deprecated. Use add_children(RegularPolygonMarker) instead\n",
      "/opt/conda/lib/python3.5/site-packages/ipykernel/__main__.py:13: FutureWarning: lat_lng_popover is deprecated. Use add_children(LatLngPopup) instead\n",
      "/opt/conda/lib/python3.5/site-packages/ipykernel/__main__.py:14: FutureWarning: Map.create_map is deprecated. Use Map.save instead\n"
     ]
    },
    {
     "data": {
      "text/html": [
       "<div style=\"width:100%;\"><div style=\"position:relative;width:100%;height:0;padding-bottom:60%;\"><iframe src=\"data:text/html;base64,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\" style=\"position:absolute;width:100%;height:100%;left:0;top:0;\"></iframe></div></div>"
      ],
      "text/plain": [
       "<folium.folium.Map at 0x7fe6fccd1860>"
      ]
     },
     "execution_count": 195,
     "metadata": {},
     "output_type": "execute_result"
    }
   ],
   "source": [
    "import folium\n",
    "\n",
    "map_osm = folium.Map(location=[45.389895, -75.697213], zoom_start=12,\n",
    "                   tiles='Stamen Terrain')\n",
    "map_osm.circle_marker(location=[45.389895, -75.697213], radius=100,\n",
    "                    popup='Carleton University', line_color='#3186cc',\n",
    "                    fill_color='#3186cc')\n",
    "\n",
    "map_osm.polygon_marker(location=[45.424318, -75.6859638], popup='UOttawa',\n",
    "                     fill_color='#45647d', num_sides=3, radius=10)\n",
    "map_osm.polygon_marker(location=[45.420238, -75.694646], popup='Larus',\n",
    "                     fill_color='#769d96', num_sides=6, radius=10)\n",
    "map_osm.lat_lng_popover()\n",
    "map_osm.create_map(path=os.path.join('HTMLMAPS','osm.html'))\n",
    "map_osm"
   ]
  },
  {
   "cell_type": "code",
   "execution_count": 202,
   "metadata": {
    "collapsed": false
   },
   "outputs": [
    {
     "data": {
      "text/html": [
       "<div style=\"width:100%;\"><div style=\"position:relative;width:100%;height:0;padding-bottom:60%;\"><iframe src=\"data:text/html;base64,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\" style=\"position:absolute;width:100%;height:100%;left:0;top:0;\"></iframe></div></div>"
      ],
      "text/plain": [
       "<folium.folium.Map at 0x7fe6fcbb79b0>"
      ]
     },
     "execution_count": 202,
     "metadata": {},
     "output_type": "execute_result"
    }
   ],
   "source": [
    "import json\n",
    "buoy_map = folium.Map([46.3014, -123.7390],zoom_start=7,tiles='Stamen Terrain')\n",
    "folium.RegularPolygonMarker([47.3489, -124.708],fill_color='#43d9de',radius=12,\n",
    "popup=folium.Popup(max_width=50).add_child(folium.Vega(json.load(open( os.path.join('data','vega.json'))), width=50, height=50))).add_to(buoy_map)\n",
    "buoy_map"
   ]
  },
  {
   "cell_type": "code",
   "execution_count": 203,
   "metadata": {
    "collapsed": false
   },
   "outputs": [
    {
     "name": "stdout",
     "output_type": "stream",
     "text": [
      "0.2.1\n"
     ]
    }
   ],
   "source": [
    "import os\n",
    "import folium\n",
    "print(folium.__version__)"
   ]
  },
  {
   "cell_type": "code",
   "execution_count": 1,
   "metadata": {
    "collapsed": true
   },
   "outputs": [],
   "source": [
    "\n",
    "import numpy as np\n",
    "\n",
    "size = 100\n",
    "lons = np.random.randint(-180, 180, size=size)\n",
    "lats = np.random.randint(-90, 90, size=size)\n",
    "\n",
    "locations = list(zip(lons, lats))\n",
    "popups = ['{}'.format(loc) for loc in locations]"
   ]
  },
  {
   "cell_type": "code",
   "execution_count": 4,
   "metadata": {
    "collapsed": false,
    "scrolled": true
   },
   "outputs": [
    {
     "data": {
      "text/html": [
       "<div style=\"width:100%;\"><div style=\"position:relative;width:100%;height:0;padding-bottom:60%;\"><iframe src=\"data:text/html;base64,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\" style=\"position:absolute;width:100%;height:100%;left:0;top:0;\"></iframe></div></div>"
      ],
      "text/plain": [
       "<folium.folium.Map at 0x7f445a17ef98>"
      ]
     },
     "execution_count": 4,
     "metadata": {},
     "output_type": "execute_result"
    }
   ],
   "source": [
    "import os\n",
    "import folium\n",
    "from folium.plugins import MarkerCluster\n",
    "\n",
    "m = folium.Map(location=[np.mean(lats), np.mean(lons)],\n",
    "                  tiles='Cartodb Positron', zoom_start=1)\n",
    "\n",
    "m.add_child(MarkerCluster(locations=locations, popups=popups))\n",
    "\n",
    "#m.save(os.path.join('results', '1000_MarkerCluster.html'))\n",
    "m.save(os.path.join('HTMLMAPS','1000_MarkerCluster.html'))\n",
    "m"
   ]
  },
  {
   "cell_type": "code",
   "execution_count": 206,
   "metadata": {
    "collapsed": false
   },
   "outputs": [
    {
     "name": "stdout",
     "output_type": "stream",
     "text": [
      "0.2.1\n"
     ]
    }
   ],
   "source": [
    "\n",
    "import os\n",
    "import folium\n",
    "print(folium.__version__)"
   ]
  },
  {
   "cell_type": "code",
   "execution_count": 207,
   "metadata": {
    "collapsed": true
   },
   "outputs": [],
   "source": [
    "import numpy as np\n",
    "\n",
    "data = (np.random.normal(size=(100, 3)) *\n",
    "        np.array([[1, 1, 1]]) +\n",
    "        np.array([[48, 5, 1]])).tolist()"
   ]
  },
  {
   "cell_type": "code",
   "execution_count": 208,
   "metadata": {
    "collapsed": false
   },
   "outputs": [
    {
     "data": {
      "text/html": [
       "<div style=\"width:100%;\"><div style=\"position:relative;width:100%;height:0;padding-bottom:60%;\"><iframe src=\"data:text/html;base64,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\" style=\"position:absolute;width:100%;height:100%;left:0;top:0;\"></iframe></div></div>"
      ],
      "text/plain": [
       "<folium.folium.Map at 0x7fe6fcbb7710>"
      ]
     },
     "execution_count": 208,
     "metadata": {},
     "output_type": "execute_result"
    }
   ],
   "source": [
    "from folium.plugins import HeatMap\n",
    "\n",
    "m = folium.Map([48., 5.], tiles='stamentoner', zoom_start=6)\n",
    "\n",
    "HeatMap(data).add_to(m)\n",
    "\n",
    "#m.save(os.path.join('results', 'Heatmap.html'))\n",
    "m.save(os.path.join('HTMLMAPS', 'Heatmap.html'))\n",
    "m"
   ]
  },
  {
   "cell_type": "code",
   "execution_count": 1,
   "metadata": {
    "collapsed": false
   },
   "outputs": [
    {
     "name": "stdout",
     "output_type": "stream",
     "text": [
      "0.2.1\n",
      "            PortName  PortLat   PortLong\n",
      "0  Port of Rochefort   45.949   -0.95472\n",
      "1     Port of Tinian   14.964  145.62000\n"
     ]
    }
   ],
   "source": [
    "import os\n",
    "import folium\n",
    "import numpy as np\n",
    "import pandas as pd\n",
    "print(folium.__version__)\n",
    "import numpy as np\n",
    "DataCleanND = pd.read_csv(os.path.join('data','DataClean.csv'),header=0) \n",
    "print(DataCleanND.head(2))\n",
    "Lats=[float(i) for i in DataCleanND['PortLat'].tolist()]\n",
    "Longs=[float(i) for i in DataCleanND['PortLong'].tolist()]\n",
    "PortNames=DataCleanND['PortName'].tolist()\n"
   ]
  },
  {
   "cell_type": "code",
   "execution_count": 4,
   "metadata": {
    "collapsed": false
   },
   "outputs": [],
   "source": [
    "locations = list(zip( Lats[:],Longs[:]))\n",
    "popups = ['{}'.format(loc) for loc in locations]\n",
    "Names1=PortNames[:]\n",
    "import random\n",
    "\n",
    "from folium.plugins import MarkerCluster\n",
    "\n",
    "m = folium.Map(location=[np.mean(Lats), np.mean(Longs)], tiles='Cartodb Positron', zoom_start=1)\n",
    "#m = folium.Map(location=[np.mean(lats), np.mean(lons)], tiles='Stamen Terrain', zoom_start=1)\n",
    "\n",
    "\n",
    "#m.add_child(MarkerCluster(locations=locations, popups=Names1))\n",
    "m.add_child(MarkerCluster(locations=locations, popups=Names1))\n",
    "#m.add_children(plugins.HeatMap(zip(Lats,Longs),radius = 10))\n",
    "\n",
    "m.save(os.path.join('HTMLMAPS', 'Ports.html'))\n",
    "\n",
    "#m"
   ]
  },
  {
   "cell_type": "code",
   "execution_count": null,
   "metadata": {
    "collapsed": true
   },
   "outputs": [],
   "source": []
  }
 ],
 "metadata": {
  "kernelspec": {
   "display_name": "Python 3",
   "language": "python",
   "name": "python3"
  },
  "language_info": {
   "codemirror_mode": {
    "name": "ipython",
    "version": 3
   },
   "file_extension": ".py",
   "mimetype": "text/x-python",
   "name": "python",
   "nbconvert_exporter": "python",
   "pygments_lexer": "ipython3",
   "version": "3.5.2"
  }
 },
 "nbformat": 4,
 "nbformat_minor": 2
}
