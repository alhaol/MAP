{
 "cells": [
  {
   "cell_type": "markdown",
   "metadata": {},
   "source": [
    "# Ibrahim Abualhaol, PhD, P.Eng, SMIEE\n",
    "### Research Assocoiate, Larus Technologies\n",
    "#### Ottawa, ON Canada \n",
    "#### MAR 02, 2016"
   ]
  },
  {
   "cell_type": "markdown",
   "metadata": {},
   "source": [
    "* This notebook includes geting ports with Lat, Long, Name and visulize them on a global map.\n",
    "* Libraries used are \n",
    ">>"
   ]
  },
  {
   "cell_type": "code",
   "execution_count": 187,
   "metadata": {
    "collapsed": false
   },
   "outputs": [
    {
     "data": {
      "text/html": [
       "<div>\n",
       "<table border=\"1\" class=\"dataframe\">\n",
       "  <thead>\n",
       "    <tr style=\"text-align: right;\">\n",
       "      <th></th>\n",
       "      <th>0</th>\n",
       "      <th>1</th>\n",
       "    </tr>\n",
       "  </thead>\n",
       "  <tbody>\n",
       "    <tr>\n",
       "      <th>0</th>\n",
       "      <td>Port of Rochefort</td>\n",
       "      <td>45.94900</td>\n",
       "    </tr>\n",
       "    <tr>\n",
       "      <th>1</th>\n",
       "      <td>NaN</td>\n",
       "      <td>-0.95472</td>\n",
       "    </tr>\n",
       "    <tr>\n",
       "      <th>2</th>\n",
       "      <td>Port of Tinian</td>\n",
       "      <td>14.96400</td>\n",
       "    </tr>\n",
       "    <tr>\n",
       "      <th>3</th>\n",
       "      <td>NaN</td>\n",
       "      <td>145.62000</td>\n",
       "    </tr>\n",
       "    <tr>\n",
       "      <th>4</th>\n",
       "      <td>Port of Ceuta</td>\n",
       "      <td>35.89000</td>\n",
       "    </tr>\n",
       "  </tbody>\n",
       "</table>\n",
       "</div>"
      ],
      "text/plain": [
       "                   0          1\n",
       "0  Port of Rochefort   45.94900\n",
       "1                NaN   -0.95472\n",
       "2     Port of Tinian   14.96400\n",
       "3                NaN  145.62000\n",
       "4      Port of Ceuta   35.89000"
      ]
     },
     "execution_count": 187,
     "metadata": {},
     "output_type": "execute_result"
    }
   ],
   "source": [
    "import pandas as pd\n",
    "import os\n",
    "#df = pd.DataFrame(data, index = ['Cochice', 'Pima', 'Santa Cruz', 'Maricopa', 'Yuma'])\n",
    "df = pd.read_csv(os.path.join('data','CombinedPorts.csv'), header=None)\n",
    "df.head(5)"
   ]
  },
  {
   "cell_type": "code",
   "execution_count": 102,
   "metadata": {
    "collapsed": false
   },
   "outputs": [
    {
     "name": "stdout",
     "output_type": "stream",
     "text": [
      "[45.949, 14.964]\n",
      "[-0.9547200000000001, 145.62]\n",
      "['Port of Rochefort', 'Port of Tinian']\n"
     ]
    }
   ],
   "source": [
    "# The data is not organized. Here we extract the columns in 3 lists \n",
    "LatLong=df[:][1].tolist() # The latitude are given in the second column\n",
    "Lat=LatLong[0::2] # getting the even position \n",
    "Long=LatLong[1::2] # getting the odd position \n",
    "Ports=df[::2][0].tolist() # getting the port names without NaN\n",
    "print (Lat[0:2])\n",
    "print (Long[0:2])\n",
    "print (Ports[0:2])"
   ]
  },
  {
   "cell_type": "code",
   "execution_count": 103,
   "metadata": {
    "collapsed": false
   },
   "outputs": [
    {
     "data": {
      "text/plain": [
       "True"
      ]
     },
     "execution_count": 103,
     "metadata": {},
     "output_type": "execute_result"
    }
   ],
   "source": [
    "# checking the lengths of all columns \n",
    "len(Long)==len(Lat)==len(Ports)  "
   ]
  },
  {
   "cell_type": "code",
   "execution_count": 109,
   "metadata": {
    "collapsed": false
   },
   "outputs": [
    {
     "name": "stdout",
     "output_type": "stream",
     "text": [
      "data= [['Port of Rochefort' '45.949' '-0.9547200000000001']\n",
      " ['Port of Tinian' '14.964' '145.62']\n",
      " ['Port of Ceuta' '35.89' '-5.3164']]\n"
     ]
    }
   ],
   "source": [
    "import numpy as np\n",
    "data = np.dstack([Ports,Lat,Long])\n",
    "print ('data=',data[0][0:3])\n",
    "DataClean=pd.DataFrame (data[0][0:], columns=['PortName', 'PortLat','PortLong'])"
   ]
  },
  {
   "cell_type": "code",
   "execution_count": 188,
   "metadata": {
    "collapsed": false
   },
   "outputs": [],
   "source": [
    "DataClean.to_csv(os.path.join('data','DataClean.csv'),index=False )  # Save as data clean with no header"
   ]
  },
  {
   "cell_type": "code",
   "execution_count": 114,
   "metadata": {
    "collapsed": false,
    "scrolled": true
   },
   "outputs": [
    {
     "name": "stdout",
     "output_type": "stream",
     "text": [
      "=================Port Lat============\n",
      "count    5507.000000\n",
      "mean       32.573678\n",
      "std        25.494622\n",
      "min       -54.933000\n",
      "25%        19.454000\n",
      "50%        40.041000\n",
      "75%        50.818500\n",
      "max        78.928000\n",
      "Name: PortLat, dtype: float64\n",
      "=================Port Long============\n",
      "count    5507.000000\n",
      "mean       11.472626\n",
      "std        76.433069\n",
      "min      -179.120000\n",
      "25%       -57.527500\n",
      "50%         8.534400\n",
      "75%        48.698000\n",
      "max       179.360000\n",
      "Name: PortLong, dtype: float64\n",
      "=================Port NAmes============\n",
      "count                        5507\n",
      "unique                       4888\n",
      "top       Port of South Louisiana\n",
      "freq                            8\n",
      "Name: PortName, dtype: object\n",
      "Index(['PortName', 'PortLat', 'PortLong'], dtype='object')\n"
     ]
    }
   ],
   "source": [
    "Data = pd.read_csv('DataClean.csv',header=0) \n",
    "Data.head()\n",
    "print(\"=================Port Lat============\")\n",
    "print(Data['PortLat'].describe())\n",
    "print(\"=================Port Long============\")\n",
    "print(Data['PortLong'].describe())\n",
    "print(\"=================Port Names============\")\n",
    "print(Data['PortName'].describe())\n",
    "print(Data.columns)"
   ]
  },
  {
   "cell_type": "code",
   "execution_count": 116,
   "metadata": {
    "collapsed": false
   },
   "outputs": [
    {
     "name": "stdout",
     "output_type": "stream",
     "text": [
      "Unique Port Lat = 5192\n",
      "Unique Port Long = 5176\n",
      "Unique Port Name = 4888\n",
      "Number of rows = 5507\n"
     ]
    }
   ],
   "source": [
    "print(\"Unique Port Lat =\", len(Data.PortLat.unique()))\n",
    "print(\"Unique Port Long =\",len(Data.PortLong.unique()))\n",
    "print(\"Unique Port Name =\",len(Data.PortName.unique()))\n",
    "print(\"Number of rows =\",len(Data.PortName))"
   ]
  },
  {
   "cell_type": "code",
   "execution_count": 118,
   "metadata": {
    "collapsed": false,
    "scrolled": true
   },
   "outputs": [
    {
     "name": "stdout",
     "output_type": "stream",
     "text": [
      "True\n",
      "True\n",
      "4888\n",
      "=================Port Lat============\n",
      "count    4888.000000\n",
      "mean       32.616375\n",
      "std        25.318803\n",
      "min       -54.933000\n",
      "25%        20.858250\n",
      "50%        40.054000\n",
      "75%        50.569500\n",
      "max        78.917000\n",
      "Name: PortLat, dtype: float64\n",
      "=================Port Long============\n",
      "count    4888.000000\n",
      "mean       10.133638\n",
      "std        75.966182\n",
      "min      -179.120000\n",
      "25%       -56.535750\n",
      "50%         8.277250\n",
      "75%        42.091750\n",
      "max       179.360000\n",
      "Name: PortLong, dtype: float64\n",
      "=================Port Names============\n",
      "count               4888\n",
      "unique              4888\n",
      "top       Port of Luarca\n",
      "freq                   1\n",
      "Name: PortName, dtype: object\n",
      "Index(['PortName', 'PortLat', 'PortLong'], dtype='object')\n"
     ]
    }
   ],
   "source": [
    "# Cleaning the list from all redundant Port Names \n",
    "DataCleanND=Data.drop_duplicates(subset='PortName',keep='last')\n",
    "print(len(DataCleanND.PortName.unique())==len(DataCleanND.PortLat[:]))\n",
    "print(len(DataCleanND.PortName.unique())==len(DataCleanND.PortLong[:]))\n",
    "print(len(DataCleanND.PortName.unique()))\n",
    "\n",
    "print(\"=================Port Lat============\")\n",
    "print(DataCleanND['PortLat'].describe())\n",
    "print(\"=================Port Long============\")\n",
    "print(DataCleanND['PortLong'].describe())\n",
    "print(\"=================Port Names============\")\n",
    "print(DataCleanND['PortName'].describe())\n",
    "print(DataCleanND.columns)"
   ]
  },
  {
   "cell_type": "code",
   "execution_count": 189,
   "metadata": {
    "collapsed": true
   },
   "outputs": [],
   "source": [
    "# Save the clean and without redundancy version\n",
    "DataCleanND.to_csv(os.path.join('data','DataCleanND.csv'),index=False )"
   ]
  },
  {
   "cell_type": "markdown",
   "metadata": {},
   "source": [
    "## Ploting the ports using gmplot"
   ]
  },
  {
   "cell_type": "code",
   "execution_count": 190,
   "metadata": {
    "collapsed": false
   },
   "outputs": [
    {
     "data": {
      "text/html": [
       "<div>\n",
       "<table border=\"1\" class=\"dataframe\">\n",
       "  <thead>\n",
       "    <tr style=\"text-align: right;\">\n",
       "      <th></th>\n",
       "      <th>PortName</th>\n",
       "      <th>PortLat</th>\n",
       "      <th>PortLong</th>\n",
       "    </tr>\n",
       "  </thead>\n",
       "  <tbody>\n",
       "    <tr>\n",
       "      <th>0</th>\n",
       "      <td>Port of Rochefort</td>\n",
       "      <td>45.949</td>\n",
       "      <td>-0.95472</td>\n",
       "    </tr>\n",
       "    <tr>\n",
       "      <th>1</th>\n",
       "      <td>Port of Tinian</td>\n",
       "      <td>14.964</td>\n",
       "      <td>145.62000</td>\n",
       "    </tr>\n",
       "    <tr>\n",
       "      <th>2</th>\n",
       "      <td>Port of Ceuta</td>\n",
       "      <td>35.890</td>\n",
       "      <td>-5.31640</td>\n",
       "    </tr>\n",
       "    <tr>\n",
       "      <th>3</th>\n",
       "      <td>Port of Oban</td>\n",
       "      <td>56.413</td>\n",
       "      <td>-5.47530</td>\n",
       "    </tr>\n",
       "    <tr>\n",
       "      <th>4</th>\n",
       "      <td>Port of Grytviken</td>\n",
       "      <td>-54.283</td>\n",
       "      <td>-36.49500</td>\n",
       "    </tr>\n",
       "  </tbody>\n",
       "</table>\n",
       "</div>"
      ],
      "text/plain": [
       "            PortName  PortLat   PortLong\n",
       "0  Port of Rochefort   45.949   -0.95472\n",
       "1     Port of Tinian   14.964  145.62000\n",
       "2      Port of Ceuta   35.890   -5.31640\n",
       "3       Port of Oban   56.413   -5.47530\n",
       "4  Port of Grytviken  -54.283  -36.49500"
      ]
     },
     "execution_count": 190,
     "metadata": {},
     "output_type": "execute_result"
    }
   ],
   "source": [
    "DataCleanND = pd.read_csv(os.path.join('data','DataClean.csv'),header=0) \n",
    "DataCleanND.head()"
   ]
  },
  {
   "cell_type": "code",
   "execution_count": 185,
   "metadata": {
    "collapsed": false
   },
   "outputs": [],
   "source": [
    "import gmplot\n",
    "Lat=[float(i) for i in DataCleanND['PortLat'].tolist()]\n",
    "Long=[float(i) for i in DataCleanND['PortLong'].tolist()]\n",
    "gmap = gmplot.GoogleMapPlotter(45.512488, -73.548487, 1) # Port of Montreal\n",
    "#gmap.grid(45.641888,45.9, 0.01,-73.182678, -73.0, 0.01)\n",
    "#gmap.scatter(Lat, Long, '#3B0B39', size=1000, marker=True)\n",
    "#gmap.scatter(Lat, Long, 'k', marker=True)\n",
    "#heatmap(self, lats, lngs, threshold=10, radius=10, gradient=None, opacity=0.6, dissipating=True):\n",
    "gmap.heatmap(Lat, Long, threshold=100, radius=15)\n",
    "#gmap.scatter(Lat, Long, c='r', marker=True)\n",
    "#gmap.scatter(Lat, Long, s=90, marker=False, alpha=0.1)\n",
    "# Slecting the first 1888\n",
    "NPorts=len(Lat)-3000;\n",
    "for i in range(NPorts):\n",
    "    gmap.circle(Lat[i], Long[i], 500, \"#FF0000\", ew=2)\n",
    "gmap.draw(os.path.join('HTMLMAPS',\"PortsMAP_ND.html\"))\n"
   ]
  },
  {
   "cell_type": "code",
   "execution_count": 192,
   "metadata": {
    "collapsed": false
   },
   "outputs": [
    {
     "data": {
      "text/html": [
       "<iframe src=HTMLMAPS/PortsMAP_ND.html width=600 height=350></iframe>"
      ],
      "text/plain": [
       "<IPython.core.display.HTML object>"
      ]
     },
     "execution_count": 192,
     "metadata": {},
     "output_type": "execute_result"
    }
   ],
   "source": [
    "# You can open it here\n",
    "import IPython\n",
    "url = os.path.join('HTMLMAPS','PortsMAP_ND.html')\n",
    "iframe = '<iframe src=' + url + ' width=600 height=350></iframe>'\n",
    "IPython.display.HTML(iframe)"
   ]
  },
  {
   "cell_type": "markdown",
   "metadata": {
    "collapsed": true
   },
   "source": [
    "## Measuring Distance\n",
    "\n",
    "Geopy can calculate geodesic distance between two points using the Vincenty distance or great-circle distance formulas, with a default of Vincenty available as the class geopy.distance.distance, and the computed distance available as attributes (e.g., miles, meters, etc.).\n",
    "\n",
    "Here’s an example usage of Vincenty distance:\n",
    "\n",
    ">>> from geopy.distance import vincenty\n",
    "\n",
    ">>> newport_ri = (41.49008, -71.312796)\n",
    "\n",
    ">>> cleveland_oh = (41.499498, -81.695391)\n",
    "\n",
    ">>> print(vincenty(newport_ri, cleveland_oh).miles)\n",
    "\n",
    "538.3904451566326\n",
    "\n",
    "Using great-circle distance:\n",
    "\n",
    ">>> from geopy.distance import great_circle\n",
    "\n",
    ">>> newport_ri = (41.49008, -71.312796)\n",
    "\n",
    ">>> cleveland_oh = (41.499498, -81.695391)\n",
    "\n",
    ">>> print(great_circle(newport_ri, cleveland_oh).miles)\n",
    "\n",
    "537.1485284062816"
   ]
  },
  {
   "cell_type": "markdown",
   "metadata": {},
   "source": [
    "## Tool to find distances between two Points \n",
    "\n",
    "http://www.findlatitudeandlongitude.com/click-lat-lng-list/#.WLXlcDsrJhG"
   ]
  },
  {
   "cell_type": "code",
   "execution_count": 127,
   "metadata": {
    "collapsed": false
   },
   "outputs": [
    {
     "name": "stdout",
     "output_type": "stream",
     "text": [
      "538.3904451566326  miles\n"
     ]
    }
   ],
   "source": [
    "#!pip install geopy\n",
    "from geopy.distance import vincenty\n",
    "newport_ri = (41.49008, -71.312796)\n",
    "cleveland_oh = (41.499498, -81.695391)\n",
    "print(vincenty(newport_ri, cleveland_oh).miles, \" miles\")"
   ]
  },
  {
   "cell_type": "code",
   "execution_count": 128,
   "metadata": {
    "collapsed": false
   },
   "outputs": [
    {
     "name": "stdout",
     "output_type": "stream",
     "text": [
      "866.4554329011002  Km\n"
     ]
    }
   ],
   "source": [
    "#!pip install geopy\n",
    "from geopy.distance import vincenty, great_circle\n",
    "newport_ri = (41.49008, -71.312796)\n",
    "cleveland_oh = (41.499498, -81.695391)\n",
    "print(vincenty(newport_ri, cleveland_oh).meters/1000, \" Km\")"
   ]
  },
  {
   "cell_type": "code",
   "execution_count": 129,
   "metadata": {
    "collapsed": false
   },
   "outputs": [
    {
     "name": "stdout",
     "output_type": "stream",
     "text": [
      "165.00803061316566  Km\n",
      "164.59093937068678  Km\n"
     ]
    }
   ],
   "source": [
    "MontReal=(45.510197,-73.600159)\n",
    "Ottawa= (45.425444,-75.706787)\n",
    "print(vincenty(MontReal, Ottawa).meters/1000, \" Km\")\n",
    "print(great_circle(MontReal, Ottawa).meters/1000, \" Km\")"
   ]
  },
  {
   "cell_type": "code",
   "execution_count": 130,
   "metadata": {
    "collapsed": false,
    "scrolled": true
   },
   "outputs": [
    {
     "data": {
      "text/plain": [
       "13096.483126395613"
      ]
     },
     "execution_count": 130,
     "metadata": {},
     "output_type": "execute_result"
    }
   ],
   "source": [
    "vincenty (Lat[0:2:1], Long[0:2:1]).meters/1000"
   ]
  },
  {
   "cell_type": "markdown",
   "metadata": {
    "collapsed": true
   },
   "source": [
    "\n",
    "##  https://pypi.python.org/pypi/folium\n",
    "\n",
    "## https://media.readthedocs.org/pdf/folium/latest/folium.pdf\n",
    "\n",
    "* Folium builds on the data wrangling strengths of the Python ecosystem and the mapping strengths of the Leaflet.js library"
   ]
  },
  {
   "cell_type": "code",
   "execution_count": null,
   "metadata": {
    "collapsed": false,
    "scrolled": true
   },
   "outputs": [],
   "source": []
  },
  {
   "cell_type": "markdown",
   "metadata": {},
   "source": [
    "## Using vincent library to prepare Charts with json "
   ]
  },
  {
   "cell_type": "code",
   "execution_count": 193,
   "metadata": {
    "collapsed": false
   },
   "outputs": [
    {
     "data": {
      "text/html": [
       "\n",
       "           <script>\n",
       "               \n",
       "                function vct_load_lib(url, callback){\n",
       "                      if(typeof d3 !== 'undefined' &&\n",
       "                         url === 'http://d3js.org/d3.v3.min.js'){\n",
       "                        callback()\n",
       "                      }\n",
       "                      var s = document.createElement('script');\n",
       "                      s.src = url;\n",
       "                      s.async = true;\n",
       "                      s.onreadystatechange = s.onload = callback;\n",
       "                      s.onerror = function(){\n",
       "                        console.warn(\"failed to load library \" + url);\n",
       "                        };\n",
       "                      document.getElementsByTagName(\"head\")[0].appendChild(s);\n",
       "                };\n",
       "                var vincent_event = new CustomEvent(\n",
       "                  \"vincent_libs_loaded\",\n",
       "                  {bubbles: true, cancelable: true}\n",
       "                );\n",
       "                \n",
       "               function load_all_libs(){\n",
       "                  console.log('Loading Vincent libs...')\n",
       "                  vct_load_lib('http://d3js.org/d3.v3.min.js', function(){\n",
       "                  vct_load_lib('http://d3js.org/d3.geo.projection.v0.min.js', function(){\n",
       "                  vct_load_lib('http://wrobstory.github.io/d3-cloud/d3.layout.cloud.js', function(){\n",
       "                  vct_load_lib('http://wrobstory.github.io/vega/vega.v1.3.3.js', function(){\n",
       "                  window.dispatchEvent(vincent_event);\n",
       "                  });\n",
       "                  });\n",
       "                  });\n",
       "                  });\n",
       "               };\n",
       "               if(typeof define === \"function\" && define.amd){\n",
       "                    if (window['d3'] === undefined ||\n",
       "                        window['topojson'] === undefined){\n",
       "                        require.config(\n",
       "                            {paths: {\n",
       "                              d3: 'http://d3js.org/d3.v3.min',\n",
       "                              topojson: 'http://d3js.org/topojson.v1.min'\n",
       "                              }\n",
       "                            }\n",
       "                          );\n",
       "                        require([\"d3\"], function(d3){\n",
       "                            console.log('Loading Vincent from require.js...')\n",
       "                            window.d3 = d3;\n",
       "                            require([\"topojson\"], function(topojson){\n",
       "                                window.topojson = topojson;\n",
       "                                load_all_libs();\n",
       "                            });\n",
       "                        });\n",
       "                    } else {\n",
       "                        load_all_libs();\n",
       "                    };\n",
       "               }else{\n",
       "                    console.log('Require.js not found, loading manually...')\n",
       "                    load_all_libs();\n",
       "               };\n",
       "\n",
       "           </script>"
      ],
      "text/plain": [
       "<IPython.core.display.HTML object>"
      ]
     },
     "metadata": {},
     "output_type": "display_data"
    },
    {
     "data": {
      "text/html": [
       "<div id=\"vis4c1f31e95b664c23acc17812d9f2149c\"></div>\n",
       "<script>\n",
       "   ( function() {\n",
       "     var _do_plot = function() {\n",
       "       if (typeof vg === 'undefined') {\n",
       "         window.addEventListener('vincent_libs_loaded', _do_plot)\n",
       "         return;\n",
       "       }\n",
       "       vg.parse.spec({\"axes\": [{\"scale\": \"x\", \"title\": \"Data 1\", \"type\": \"x\"}, {\"scale\": \"y\", \"title\": \"Data 2\", \"type\": \"y\"}], \"data\": [{\"name\": \"table\", \"values\": [{\"col\": \"Data 2\", \"idx\": 15, \"val\": 42}, {\"col\": \"Data 2\", \"idx\": 29, \"val\": 27}, {\"col\": \"Data 2\", \"idx\": 63, \"val\": 52}, {\"col\": \"Data 2\", \"idx\": 28, \"val\": 18}, {\"col\": \"Data 2\", \"idx\": 45, \"val\": 61}, {\"col\": \"Data 2\", \"idx\": 73, \"val\": 19}, {\"col\": \"Data 2\", \"idx\": 15, \"val\": 62}, {\"col\": \"Data 2\", \"idx\": 62, \"val\": 33}]}], \"height\": 50, \"legends\": [], \"marks\": [{\"from\": {\"data\": \"table\"}, \"properties\": {\"enter\": {\"width\": {\"band\": true, \"offset\": -1, \"scale\": \"x\"}, \"x\": {\"field\": \"data.idx\", \"scale\": \"x\"}, \"y\": {\"field\": \"data.val\", \"scale\": \"y\"}, \"y2\": {\"scale\": \"y\", \"value\": 0}}, \"update\": {\"fill\": {\"value\": \"steelblue\"}}}, \"type\": \"rect\"}], \"padding\": {\"bottom\": 1, \"left\": 1, \"right\": 1, \"top\": 1}, \"scales\": [{\"domain\": {\"data\": \"table\", \"field\": \"data.idx\"}, \"name\": \"x\", \"range\": \"width\", \"type\": \"ordinal\"}, {\"domain\": {\"data\": \"table\", \"field\": \"data.val\"}, \"name\": \"y\", \"nice\": true, \"range\": \"height\"}], \"width\": 50}, function(chart) {\n",
       "         chart({el: \"#vis4c1f31e95b664c23acc17812d9f2149c\"}).update();\n",
       "       });\n",
       "     };\n",
       "     _do_plot();\n",
       "   })();\n",
       "</script>\n",
       "<style>.vega canvas {width: 100%;}</style>\n",
       "        "
      ],
      "text/plain": [
       "<IPython.core.display.HTML object>"
      ]
     },
     "metadata": {},
     "output_type": "display_data"
    }
   ],
   "source": [
    "\n",
    "import pandas as pd\n",
    "import vincent\n",
    "from vincent import (Visualization, Scale, DataRef, Data, PropertySet,\n",
    "                     Axis, ValueRef, MarkRef, MarkProperties, Mark)\n",
    "vincent.core.initialize_notebook()\n",
    "\n",
    "df = pd.DataFrame({'Data 1': [15, 29, 63, 28, 45, 73, 15, 62],\n",
    "                   'Data 2': [42, 27, 52, 18, 61, 19, 62, 33]})\n",
    "\n",
    "#Top level Visualization\n",
    "vis = Visualization(width=50, height=50)\n",
    "vis.padding = {'top': 1, 'left': 1, 'bottom': 1, 'right': 1}\n",
    "\n",
    "#Data. We're going to key Data 2 on Data 1\n",
    "vis.data.append(Data.from_pandas(df, columns=['Data 2'], key_on='Data 1', name='table'))\n",
    "\n",
    "#Scales\n",
    "vis.scales.append(Scale(name='x', type='ordinal', range='width',\n",
    "                        domain=DataRef(data='table', field=\"data.idx\")))\n",
    "vis.scales.append(Scale(name='y', range='height', nice=True,\n",
    "                        domain=DataRef(data='table', field=\"data.val\")))\n",
    "\n",
    "#Axes\n",
    "vis.axes.extend([Axis(type='x', scale='x'), Axis(type='y', scale='y')])\n",
    "\n",
    "#Marks\n",
    "enter_props = PropertySet(x=ValueRef(scale='x', field=\"data.idx\"),\n",
    "                                     y=ValueRef(scale='y', field=\"data.val\"),\n",
    "                                     width=ValueRef(scale='x', band=True, offset=-1),\n",
    "                                     y2=ValueRef(scale='y', value=0))\n",
    "update_props = PropertySet(fill=ValueRef(value='steelblue'))\n",
    "mark = Mark(type='rect', from_=MarkRef(data='table'),\n",
    "            properties=MarkProperties(enter=enter_props,\n",
    "            update=update_props))\n",
    "\n",
    "vis.marks.append(mark)\n",
    "vis.axis_titles(x='Data 1', y='Data 2')\n",
    "vis.to_json(os.path.join('data','vega.json'))\n",
    "vis.display()"
   ]
  },
  {
   "cell_type": "code",
   "execution_count": 194,
   "metadata": {
    "collapsed": true
   },
   "outputs": [],
   "source": [
    "import os\n",
    "cwd = os.getcwd()\n",
    "mac_data_dir = cwd+'vega.json'"
   ]
  },
  {
   "cell_type": "code",
   "execution_count": 195,
   "metadata": {
    "collapsed": false,
    "scrolled": false
   },
   "outputs": [
    {
     "name": "stderr",
     "output_type": "stream",
     "text": [
      "/opt/conda/lib/python3.5/site-packages/ipykernel/__main__.py:7: FutureWarning: circle_marker is deprecated. Use add_children(CircleMarker) instead\n",
      "/opt/conda/lib/python3.5/site-packages/ipykernel/__main__.py:10: FutureWarning: polygon_marker is deprecated. Use add_children(RegularPolygonMarker) instead\n",
      "/opt/conda/lib/python3.5/site-packages/ipykernel/__main__.py:12: FutureWarning: polygon_marker is deprecated. Use add_children(RegularPolygonMarker) instead\n",
      "/opt/conda/lib/python3.5/site-packages/ipykernel/__main__.py:13: FutureWarning: lat_lng_popover is deprecated. Use add_children(LatLngPopup) instead\n",
      "/opt/conda/lib/python3.5/site-packages/ipykernel/__main__.py:14: FutureWarning: Map.create_map is deprecated. Use Map.save instead\n"
     ]
    },
    {
     "data": {
      "text/html": [
       "<div style=\"width:100%;\"><div style=\"position:relative;width:100%;height:0;padding-bottom:60%;\"><iframe src=\"data:text/html;base64,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\" style=\"position:absolute;width:100%;height:100%;left:0;top:0;\"></iframe></div></div>"
      ],
      "text/plain": [
       "<folium.folium.Map at 0x7fe6fccd1860>"
      ]
     },
     "execution_count": 195,
     "metadata": {},
     "output_type": "execute_result"
    }
   ],
   "source": [
    "import folium\n",
    "\n",
    "map_osm = folium.Map(location=[45.389895, -75.697213], zoom_start=12,\n",
    "                   tiles='Stamen Terrain')\n",
    "map_osm.circle_marker(location=[45.389895, -75.697213], radius=100,\n",
    "                    popup='Carleton University', line_color='#3186cc',\n",
    "                    fill_color='#3186cc')\n",
    "\n",
    "map_osm.polygon_marker(location=[45.424318, -75.6859638], popup='UOttawa',\n",
    "                     fill_color='#45647d', num_sides=3, radius=10)\n",
    "map_osm.polygon_marker(location=[45.420238, -75.694646], popup='Larus',\n",
    "                     fill_color='#769d96', num_sides=6, radius=10)\n",
    "map_osm.lat_lng_popover()\n",
    "map_osm.create_map(path=os.path.join('HTMLMAPS','osm.html'))\n",
    "map_osm"
   ]
  },
  {
   "cell_type": "code",
   "execution_count": 202,
   "metadata": {
    "collapsed": false
   },
   "outputs": [
    {
     "data": {
      "text/html": [
       "<div style=\"width:100%;\"><div style=\"position:relative;width:100%;height:0;padding-bottom:60%;\"><iframe src=\"data:text/html;base64,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\" style=\"position:absolute;width:100%;height:100%;left:0;top:0;\"></iframe></div></div>"
      ],
      "text/plain": [
       "<folium.folium.Map at 0x7fe6fcbb79b0>"
      ]
     },
     "execution_count": 202,
     "metadata": {},
     "output_type": "execute_result"
    }
   ],
   "source": [
    "import json\n",
    "buoy_map = folium.Map([46.3014, -123.7390],zoom_start=7,tiles='Stamen Terrain')\n",
    "folium.RegularPolygonMarker([47.3489, -124.708],fill_color='#43d9de',radius=12,\n",
    "popup=folium.Popup(max_width=50).add_child(folium.Vega(json.load(open( os.path.join('data','vega.json'))), width=50, height=50))).add_to(buoy_map)\n",
    "buoy_map"
   ]
  },
  {
   "cell_type": "code",
   "execution_count": 203,
   "metadata": {
    "collapsed": false
   },
   "outputs": [
    {
     "name": "stdout",
     "output_type": "stream",
     "text": [
      "0.2.1\n"
     ]
    }
   ],
   "source": [
    "import os\n",
    "import folium\n",
    "print(folium.__version__)"
   ]
  },
  {
   "cell_type": "code",
   "execution_count": 204,
   "metadata": {
    "collapsed": true
   },
   "outputs": [],
   "source": [
    "\n",
    "import numpy as np\n",
    "\n",
    "size = 100\n",
    "lons = np.random.randint(-180, 180, size=size)\n",
    "lats = np.random.randint(-90, 90, size=size)\n",
    "\n",
    "locations = list(zip(lons, lats))\n",
    "popups = ['{}'.format(loc) for loc in locations]"
   ]
  },
  {
   "cell_type": "code",
   "execution_count": 205,
   "metadata": {
    "collapsed": false,
    "scrolled": true
   },
   "outputs": [
    {
     "data": {
      "text/html": [
       "<div style=\"width:100%;\"><div style=\"position:relative;width:100%;height:0;padding-bottom:60%;\"><iframe src=\"data:text/html;base64,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\" style=\"position:absolute;width:100%;height:100%;left:0;top:0;\"></iframe></div></div>"
      ],
      "text/plain": [
       "<folium.folium.Map at 0x7fe6fcbb7748>"
      ]
     },
     "execution_count": 205,
     "metadata": {},
     "output_type": "execute_result"
    }
   ],
   "source": [
    "from folium.plugins import MarkerCluster\n",
    "\n",
    "m = folium.Map(location=[np.mean(lats), np.mean(lons)],\n",
    "                  tiles='Cartodb Positron', zoom_start=1)\n",
    "\n",
    "m.add_child(MarkerCluster(locations=locations, popups=popups))\n",
    "\n",
    "#m.save(os.path.join('results', '1000_MarkerCluster.html'))\n",
    "m.save(os.path.join('HTMLMAPS','1000_MarkerCluster.html'))\n",
    "m"
   ]
  },
  {
   "cell_type": "code",
   "execution_count": 206,
   "metadata": {
    "collapsed": false
   },
   "outputs": [
    {
     "name": "stdout",
     "output_type": "stream",
     "text": [
      "0.2.1\n"
     ]
    }
   ],
   "source": [
    "\n",
    "import os\n",
    "import folium\n",
    "print(folium.__version__)"
   ]
  },
  {
   "cell_type": "code",
   "execution_count": 207,
   "metadata": {
    "collapsed": true
   },
   "outputs": [],
   "source": [
    "import numpy as np\n",
    "\n",
    "data = (np.random.normal(size=(100, 3)) *\n",
    "        np.array([[1, 1, 1]]) +\n",
    "        np.array([[48, 5, 1]])).tolist()"
   ]
  },
  {
   "cell_type": "code",
   "execution_count": 208,
   "metadata": {
    "collapsed": false
   },
   "outputs": [
    {
     "data": {
      "text/html": [
       "<div style=\"width:100%;\"><div style=\"position:relative;width:100%;height:0;padding-bottom:60%;\"><iframe src=\"data:text/html;base64,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\" style=\"position:absolute;width:100%;height:100%;left:0;top:0;\"></iframe></div></div>"
      ],
      "text/plain": [
       "<folium.folium.Map at 0x7fe6fcbb7710>"
      ]
     },
     "execution_count": 208,
     "metadata": {},
     "output_type": "execute_result"
    }
   ],
   "source": [
    "from folium.plugins import HeatMap\n",
    "\n",
    "m = folium.Map([48., 5.], tiles='stamentoner', zoom_start=6)\n",
    "\n",
    "HeatMap(data).add_to(m)\n",
    "\n",
    "#m.save(os.path.join('results', 'Heatmap.html'))\n",
    "m.save(os.path.join('HTMLMAPS', 'Heatmap.html'))\n",
    "m"
   ]
  },
  {
   "cell_type": "code",
   "execution_count": 1,
   "metadata": {
    "collapsed": false
   },
   "outputs": [
    {
     "name": "stdout",
     "output_type": "stream",
     "text": [
      "0.2.1\n",
      "            PortName  PortLat   PortLong\n",
      "0  Port of Rochefort   45.949   -0.95472\n",
      "1     Port of Tinian   14.964  145.62000\n"
     ]
    }
   ],
   "source": [
    "import os\n",
    "import folium\n",
    "import numpy as np\n",
    "import pandas as pd\n",
    "print(folium.__version__)\n",
    "import numpy as np\n",
    "DataCleanND = pd.read_csv(os.path.join('data','DataClean.csv'),header=0) \n",
    "print(DataCleanND.head(2))\n",
    "Lats=[float(i) for i in DataCleanND['PortLat'].tolist()]\n",
    "Longs=[float(i) for i in DataCleanND['PortLong'].tolist()]\n",
    "PortNames=DataCleanND['PortName'].tolist()\n"
   ]
  },
  {
   "cell_type": "code",
   "execution_count": 4,
   "metadata": {
    "collapsed": false
   },
   "outputs": [],
   "source": [
    "locations = list(zip( Lats[:],Longs[:]))\n",
    "popups = ['{}'.format(loc) for loc in locations]\n",
    "Names1=PortNames[:]\n",
    "import random\n",
    "\n",
    "from folium.plugins import MarkerCluster\n",
    "\n",
    "m = folium.Map(location=[np.mean(Lats), np.mean(Longs)], tiles='Cartodb Positron', zoom_start=1)\n",
    "#m = folium.Map(location=[np.mean(lats), np.mean(lons)], tiles='Stamen Terrain', zoom_start=1)\n",
    "\n",
    "\n",
    "#m.add_child(MarkerCluster(locations=locations, popups=Names1))\n",
    "m.add_child(MarkerCluster(locations=locations, popups=Names1))\n",
    "#m.add_children(plugins.HeatMap(zip(Lats,Longs),radius = 10))\n",
    "\n",
    "m.save(os.path.join('HTMLMAPS', 'Ports.html'))\n",
    "\n",
    "#m"
   ]
  },
  {
   "cell_type": "code",
   "execution_count": null,
   "metadata": {
    "collapsed": true
   },
   "outputs": [],
   "source": []
  }
 ],
 "metadata": {
  "kernelspec": {
   "display_name": "Python 3",
   "language": "python",
   "name": "python3"
  },
  "language_info": {
   "codemirror_mode": {
    "name": "ipython",
    "version": 3
   },
   "file_extension": ".py",
   "mimetype": "text/x-python",
   "name": "python",
   "nbconvert_exporter": "python",
   "pygments_lexer": "ipython3",
   "version": "3.5.2"
  }
 },
 "nbformat": 4,
 "nbformat_minor": 2
}
