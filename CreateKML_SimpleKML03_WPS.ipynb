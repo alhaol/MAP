{
 "cells": [
  {
   "cell_type": "code",
   "execution_count": 1,
   "metadata": {
    "collapsed": false
   },
   "outputs": [
    {
     "data": {
      "text/html": [
       "<div>\n",
       "<table border=\"1\" class=\"dataframe\">\n",
       "  <thead>\n",
       "    <tr style=\"text-align: right;\">\n",
       "      <th></th>\n",
       "      <th>01_PortLocation</th>\n",
       "      <th>02_PortName</th>\n",
       "      <th>03_PortAuth</th>\n",
       "      <th>04_PortAddress</th>\n",
       "      <th>05_PortPhone</th>\n",
       "      <th>06_PortFax</th>\n",
       "      <th>07_Port800Num</th>\n",
       "      <th>08_PortEmail</th>\n",
       "      <th>09_PortWeb</th>\n",
       "      <th>10_PortLat</th>\n",
       "      <th>11_PortLong</th>\n",
       "      <th>12_PortLOCODE</th>\n",
       "      <th>13_PortType</th>\n",
       "      <th>14_PortSize</th>\n",
       "      <th>LAT</th>\n",
       "      <th>LONGS</th>\n",
       "    </tr>\n",
       "  </thead>\n",
       "  <tbody>\n",
       "    <tr>\n",
       "      <th>0</th>\n",
       "      <td>Durres</td>\n",
       "      <td>Port of Durres</td>\n",
       "      <td>Durres Port Authority</td>\n",
       "      <td>Kapitenerija e PortitL Nr 1 Rruga TregtareDurr...</td>\n",
       "      <td>355 52 23115</td>\n",
       "      <td>355 52 22028</td>\n",
       "      <td>NAN</td>\n",
       "      <td>apd@san.com.al</td>\n",
       "      <td>NAN</td>\n",
       "      <td>41° 18' 28\" N</td>\n",
       "      <td>19° 27' 17\" E</td>\n",
       "      <td>ALDRZ</td>\n",
       "      <td>Seaport</td>\n",
       "      <td>Small</td>\n",
       "      <td>41.307778</td>\n",
       "      <td>19.454722</td>\n",
       "    </tr>\n",
       "    <tr>\n",
       "      <th>1</th>\n",
       "      <td>Sarande</td>\n",
       "      <td>Port of Sarande</td>\n",
       "      <td>Sarande Port Authority</td>\n",
       "      <td>Port OfficeSarande PortSarandeAlbania</td>\n",
       "      <td>355 85 25827</td>\n",
       "      <td>355 85 25827</td>\n",
       "      <td>NAN</td>\n",
       "      <td>NAN</td>\n",
       "      <td>NAN</td>\n",
       "      <td>39° 52' 19\" N</td>\n",
       "      <td>20° 0' 20\" E</td>\n",
       "      <td>ALSAR</td>\n",
       "      <td>Pier, Jetty or Wharf</td>\n",
       "      <td>Small</td>\n",
       "      <td>39.871944</td>\n",
       "      <td>20.005556</td>\n",
       "    </tr>\n",
       "  </tbody>\n",
       "</table>\n",
       "</div>"
      ],
      "text/plain": [
       "  01_PortLocation      02_PortName             03_PortAuth  \\\n",
       "0          Durres   Port of Durres   Durres Port Authority   \n",
       "1         Sarande  Port of Sarande  Sarande Port Authority   \n",
       "\n",
       "                                      04_PortAddress  05_PortPhone  \\\n",
       "0  Kapitenerija e PortitL Nr 1 Rruga TregtareDurr...  355 52 23115   \n",
       "1              Port OfficeSarande PortSarandeAlbania  355 85 25827   \n",
       "\n",
       "     06_PortFax 07_Port800Num    08_PortEmail 09_PortWeb     10_PortLat  \\\n",
       "0  355 52 22028           NAN  apd@san.com.al        NAN  41° 18' 28\" N   \n",
       "1  355 85 25827           NAN             NAN        NAN  39° 52' 19\" N   \n",
       "\n",
       "     11_PortLong 12_PortLOCODE           13_PortType 14_PortSize        LAT  \\\n",
       "0  19° 27' 17\" E         ALDRZ               Seaport       Small  41.307778   \n",
       "1   20° 0' 20\" E         ALSAR  Pier, Jetty or Wharf       Small  39.871944   \n",
       "\n",
       "       LONGS  \n",
       "0  19.454722  \n",
       "1  20.005556  "
      ]
     },
     "execution_count": 1,
     "metadata": {},
     "output_type": "execute_result"
    }
   ],
   "source": [
    "import pandas as pd\n",
    "import os\n",
    "#df = pd.DataFrame(data, index = ['Cochice', 'Pima', 'Santa Cruz', 'Maricopa', 'Yuma'])\n",
    "df = pd.read_csv(os.path.join('data','DataWPS_V2.csv'), header=0)\n",
    "df.head(2)\n"
   ]
  },
  {
   "cell_type": "code",
   "execution_count": 38,
   "metadata": {
    "collapsed": false
   },
   "outputs": [],
   "source": [
    "Names=list(df.PortName)\n",
    "PortLat=list(df.PortLat)\n",
    "PortLong=list(df.PortLong)"
   ]
  },
  {
   "cell_type": "code",
   "execution_count": 54,
   "metadata": {
    "collapsed": false
   },
   "outputs": [],
   "source": [
    "#!pip install simplekml"
   ]
  },
  {
   "cell_type": "code",
   "execution_count": 3,
   "metadata": {
    "collapsed": false
   },
   "outputs": [],
   "source": [
    "import csv\n",
    "import simplekml\n",
    "import os\n",
    "\n",
    "\n",
    "inputfile = csv.reader(open(os.path.join('data','DataWPS_V2.csv'),'r'))\n",
    "next(inputfile, None)  # skip the headers\n",
    "\n",
    "kml=simplekml.Kml()\n",
    "\n",
    "for row in inputfile:\n",
    "  kml.newpoint(name=row[1], coords=[( row[15],row[14])])\n",
    "\n",
    "kml.save(os.path.join('data','WPS2017.kml'))"
   ]
  },
  {
   "cell_type": "code",
   "execution_count": null,
   "metadata": {
    "collapsed": true
   },
   "outputs": [],
   "source": [
    "#Crating Polygon "
   ]
  },
  {
   "cell_type": "markdown",
   "metadata": {
    "collapsed": false
   },
   "source": [
    "import csv\n",
    "import simplekml\n",
    "import os\n",
    "\n",
    "kml1=simplekml.Kml()\n",
    "\n",
    "pol = kml1.newpolygon(name=\"Atrium Garden\",\n",
    "                     outerboundaryis=[(18.43348,-33.98985), (18.43387,-33.99004),\n",
    "                                      (18.43410,-33.98972), (18.43371,-33.98952),\n",
    "                                      (18.43348,-33.98985)],\n",
    "                     innerboundaryis=[(18.43360,-33.98982), (18.43386,-33.98995),\n",
    "                                      (18.43401,-33.98974), (18.43376,-33.98962),\n",
    "                                     (18.43360,-33.98982)])\n",
    "\n",
    "kml1.save(os.path.join('data','CreatingPolygon.kml'))\n",
    "\n",
    "\n"
   ]
  },
  {
   "cell_type": "code",
   "execution_count": null,
   "metadata": {
    "collapsed": true
   },
   "outputs": [],
   "source": [
    "#Crating Polygon Simple Line \n"
   ]
  }
 ],
 "metadata": {
  "kernelspec": {
   "display_name": "Python 3",
   "language": "python",
   "name": "python3"
  },
  "language_info": {
   "codemirror_mode": {
    "name": "ipython",
    "version": 3
   },
   "file_extension": ".py",
   "mimetype": "text/x-python",
   "name": "python",
   "nbconvert_exporter": "python",
   "pygments_lexer": "ipython3",
   "version": "3.5.2"
  }
 },
 "nbformat": 4,
 "nbformat_minor": 2
}
